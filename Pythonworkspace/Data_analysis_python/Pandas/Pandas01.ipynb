{
 "cells": [
  {
   "cell_type": "markdown",
   "id": "9a7b4c07",
   "metadata": {},
   "source": [
    "## Pandas "
   ]
  },
  {
   "cell_type": "code",
   "execution_count": 1,
   "id": "3553b36f",
   "metadata": {},
   "outputs": [],
   "source": [
    "import pandas as pd\n",
    "import numpy as np"
   ]
  },
  {
   "cell_type": "markdown",
   "id": "12dd3582",
   "metadata": {},
   "source": [
    "## series 시작\n",
    "- pandas는 series와 dataFrame이라는 구조를 이용함\n",
    "- series와 dataFrame는 앞서 언급했던 numpy의 1차원 / 2차원 array와 유사\n",
    "- series에서 받을 수 있는 데이터는 리스트, 튜블, 딕셔너리가 가능\n",
    "- 딕셔너리는 key:value 중에서 key을 index로 사용하고, 나머지 리스트나 튜플은 index 이름을 붙여주지 않으면 0~n을 통해서 접근"
   ]
  },
  {
   "cell_type": "code",
   "execution_count": 2,
   "id": "0294afa4",
   "metadata": {
    "scrolled": true
   },
   "outputs": [
    {
     "name": "stdout",
     "output_type": "stream",
     "text": [
      "Lim     10\n",
      "Kang    20\n",
      "Lee     30\n",
      "Shin    40\n",
      "Name: kor, dtype: int32\n",
      "0    10\n",
      "1    20\n",
      "2    30\n",
      "3    40\n",
      "dtype: int64\n",
      "aa    10.0\n",
      "bb    20.0\n",
      "cc    30.0\n",
      "dtype: float32\n"
     ]
    }
   ],
   "source": [
    "# 1차원 데이터\n",
    "myList = [10, 20, 30, 40]\n",
    "t = (10, 20, 30, 40)\n",
    "d = {'aa' : 10, 'bb' : 20, 'cc' : 30}\n",
    "\n",
    "sr1 = pd.Series(myList, index=['Lim', 'Kang', 'Lee', 'Shin'], dtype=np.int32, name='kor')\n",
    "\n",
    "print(sr1)\n",
    "\n",
    "sr2 = pd.Series(t)\n",
    "print(sr2)\n",
    "\n",
    "sr3 = pd.Series(d, dtype=np.float32)\n",
    "print(sr3)"
   ]
  },
  {
   "cell_type": "markdown",
   "id": "99bf370d",
   "metadata": {},
   "source": [
    "## series 속성\n",
    "series의 여러 속성을 확인함으로써,데이터 분석할 때 중간중간 본인 코딩이 잘 되고 있는지 확인 가능"
   ]
  },
  {
   "cell_type": "code",
   "execution_count": 3,
   "id": "4feac3d1",
   "metadata": {},
   "outputs": [
    {
     "name": "stdout",
     "output_type": "stream",
     "text": [
      "aa    10\n",
      "bb    20\n",
      "cc    30\n",
      "dd    40\n",
      "ee    50\n",
      "Name: 국어점수, dtype: int64\n",
      "int64\n",
      "1\n",
      "(5,)\n",
      "5\n",
      "국어점수\n",
      "Index(['aa', 'bb', 'cc', 'dd', 'ee'], dtype='object')\n",
      "[10 20 30 40 50]\n"
     ]
    }
   ],
   "source": [
    "data = {'aa' : 10, 'bb' : 20, 'cc' : 30, 'dd' : 40, 'ee' : 50}\n",
    "sr = pd.Series(data, name='국어점수') # 시리즈 생성\n",
    "\n",
    "print(sr)\n",
    "print(sr.dtype) # 데이터타입\n",
    "print(sr.ndim) # 차원\n",
    "print(sr.shape) \n",
    "print(sr.size) # 전체 데이터 개수\n",
    "print(sr.name)\n",
    "print(sr.index)\n",
    "print(sr.values)"
   ]
  },
  {
   "cell_type": "markdown",
   "id": "820c0449",
   "metadata": {},
   "source": [
    "## series indexing #1\n",
    "기본적인 방법은 파이썬하고 비슷"
   ]
  },
  {
   "cell_type": "code",
   "execution_count": 4,
   "id": "4050d59a",
   "metadata": {
    "scrolled": true
   },
   "outputs": [
    {
     "name": "stdout",
     "output_type": "stream",
     "text": [
      "10\n",
      "50\n",
      "30\n",
      "aa    10\n",
      "cc    30\n",
      "Name: 국어점수, dtype: int64\n",
      "cc    30\n",
      "dd    40\n",
      "Name: 국어점수, dtype: int64\n",
      "bb    20\n",
      "cc    30\n",
      "Name: 국어점수, dtype: int64\n",
      "aa    10\n",
      "bb    20\n",
      "cc    30\n",
      "Name: 국어점수, dtype: int64\n"
     ]
    }
   ],
   "source": [
    "data = {'aa' : 10, 'bb' : 20, 'cc' : 30, 'dd' : 40, 'ee' : 50}\n",
    "sr = pd.Series(data, name='국어점수') # 시리즈 생성\n",
    "\n",
    "print(sr[0])\n",
    "print(sr[-1])\n",
    "print(sr['cc'])\n",
    "print(sr[[0,2]])\n",
    "print(sr[['cc','dd']])\n",
    "print(sr[1:3])\n",
    "print(sr['aa':'cc'])"
   ]
  },
  {
   "cell_type": "markdown",
   "id": "e413e89a",
   "metadata": {},
   "source": [
    "## series indexing #2\n",
    "- iloc: integer location의 약어. 그냥 [ ]으로 접근하는 것과 비슷. 행이나 칼럼의 순서를 나타내는 정수로 특정 값을 추출. 차이점은 다음 예에서\n",
    "- loc: 칼럼명을 직접 적거나 특정 조건식을 사용으로써 사람한테 좀 더 직관적\n"
   ]
  },
  {
   "cell_type": "code",
   "execution_count": 5,
   "id": "3a179ed6",
   "metadata": {},
   "outputs": [
    {
     "name": "stdout",
     "output_type": "stream",
     "text": [
      "10\n",
      "10\n",
      "50\n",
      "cc    30\n",
      "dd    40\n",
      "ee    50\n",
      "Name: 국어점수, dtype: int64\n",
      "--------------\n",
      "10\n",
      "dd    40\n",
      "ee    50\n",
      "Name: 국어점수, dtype: int64\n",
      "bb    20\n",
      "cc    30\n",
      "dd    40\n",
      "Name: 국어점수, dtype: int64\n"
     ]
    }
   ],
   "source": [
    "data = {'aa' : 10, 'bb' : 20, 'cc' : 30, 'dd' : 40, 'ee' : 50}\n",
    "sr = pd.Series(data, name='국어점수') # 시리즈 생성\n",
    "\n",
    "print(sr.iloc[0])\n",
    "print(sr[0])\n",
    "print(sr.iloc[-1])\n",
    "print(sr.iloc[2:])\n",
    "print(\"--------------\")\n",
    "print(sr.loc['aa']) # loc는 키에 해당되는 것 사용, loc[0] -> error\n",
    "print(sr.loc['dd':])\n",
    "print(sr.loc['bb':'dd'])\n"
   ]
  },
  {
   "cell_type": "markdown",
   "id": "0eb94a4c",
   "metadata": {},
   "source": [
    "## series indexing #3\n",
    "- loc 또는 iloc을 반드시 사용해야 할 때 -> 인덱스가 숫자인 경우 (중요!)\n",
    "- 결국 [ ] 말고, 될 수 있으면 loc, iloc을 사용"
   ]
  },
  {
   "cell_type": "code",
   "execution_count": 6,
   "id": "45462d74",
   "metadata": {},
   "outputs": [
    {
     "name": "stdout",
     "output_type": "stream",
     "text": [
      "aa    10\n",
      "dd    40\n",
      "ee    50\n",
      "Name: 국어점수, dtype: int64\n",
      "---------------\n",
      "2    10\n",
      "3    20\n",
      "4    30\n",
      "5    40\n",
      "6    50\n",
      "Name: 국어점수, dtype: int64\n",
      "---------------\n",
      "10\n",
      "10\n",
      "2    10\n",
      "3    20\n",
      "Name: 국어점수, dtype: int64\n"
     ]
    }
   ],
   "source": [
    "data = {'aa' : 10, 'bb' : 20, 'cc' : 30, 'dd' : 40, 'ee' : 50}\n",
    "sr = pd.Series(data, name='국어점수') # 시리즈 생성\n",
    "\n",
    "print(sr[[True, False, False, True, True]])\n",
    "print(\"---------------\")\n",
    "sr.index = [2, 3, 4, 5, 6]\n",
    "print(sr)\n",
    "print(\"---------------\")\n",
    "# print(sr[0]) # error\n",
    "print(sr[2]) # 부여된 인덱스\n",
    "print(sr.iloc[0])\n",
    "print(sr.iloc[0:2])"
   ]
  },
  {
   "cell_type": "markdown",
   "id": "a42ea9dc",
   "metadata": {},
   "source": [
    "## series 산술관리논리\n",
    "부등호, == 등 모두 사용가능"
   ]
  },
  {
   "cell_type": "code",
   "execution_count": 7,
   "id": "12d9d0c5",
   "metadata": {},
   "outputs": [
    {
     "name": "stdout",
     "output_type": "stream",
     "text": [
      "aa    11\n",
      "bb    21\n",
      "cc    31\n",
      "dd    41\n",
      "ee    51\n",
      "Name: 국어점수, dtype: int64\n",
      "aa     20\n",
      "bb     40\n",
      "cc     60\n",
      "dd     80\n",
      "ee    100\n",
      "Name: 국어점수, dtype: int64\n",
      "dd    40\n",
      "ee    50\n",
      "Name: 국어점수, dtype: int64\n",
      "cc    30\n",
      "dd    40\n",
      "Name: 국어점수, dtype: int64\n",
      "aa    10\n",
      "ee    50\n",
      "Name: 국어점수, dtype: int64\n"
     ]
    }
   ],
   "source": [
    "data = {'aa' : 10, 'bb' : 20, 'cc' : 30, 'dd' : 40, 'ee' : 50}\n",
    "sr = pd.Series(data, name='국어점수') # 시리즈 생성\n",
    "\n",
    "print(sr + 1)\n",
    "print(sr * 2)\n",
    "print(sr[sr > 30])\n",
    "print(sr[(sr == 30) | (sr == 40)])\n",
    "print(sr[~((sr >=20) & (sr <= 40))])"
   ]
  },
  {
   "cell_type": "markdown",
   "id": "1a268644",
   "metadata": {},
   "source": [
    "## series isin( ), between( )\n",
    "- isin( ~ ): ~가 is(즉, 있느냐?)\n",
    "- between(A, B): A~B사이"
   ]
  },
  {
   "cell_type": "code",
   "execution_count": 8,
   "id": "bb7dc939",
   "metadata": {},
   "outputs": [
    {
     "name": "stdout",
     "output_type": "stream",
     "text": [
      "bb    20\n",
      "dd    40\n",
      "Name: 국어점수, dtype: int64\n",
      "-------------------\n",
      "Series([], Name: 국어점수, dtype: int64)\n",
      "-------------------\n",
      "aa    10\n",
      "cc    30\n",
      "ee    50\n",
      "Name: 국어점수, dtype: int64\n",
      "bb    20\n",
      "cc    30\n",
      "dd    40\n",
      "Name: 국어점수, dtype: int64\n",
      "aa    10\n",
      "cc    30\n",
      "Name: 국어점수, dtype: int64\n",
      "aa    10\n",
      "Name: 국어점수, dtype: int64\n"
     ]
    }
   ],
   "source": [
    "data = {'aa' : 10, 'bb' : 20, 'cc' : 30, 'dd' : 40, 'ee' : 50}\n",
    "sr = pd.Series(data, name='국어점수') # 시리즈 생성\n",
    "\n",
    "print(sr[sr.isin([20, 40])])\n",
    "print(\"-------------------\")\n",
    "print(sr[sr.isin([60])]) # 없어서 안뜸\n",
    "print(\"-------------------\")\n",
    "print(sr[~(sr.isin([20, 40]))])\n",
    "print(sr[sr.between(20, 40)])\n",
    "print(sr[sr.index.isin(['aa', 'cc'])])\n",
    "print(sr[sr.index.isin(['aa', 'gg'])])"
   ]
  },
  {
   "cell_type": "markdown",
   "id": "837d02db",
   "metadata": {},
   "source": [
    "## series 추가, 수정 #1"
   ]
  },
  {
   "cell_type": "code",
   "execution_count": 9,
   "id": "fe5ab0c9",
   "metadata": {},
   "outputs": [
    {
     "name": "stdout",
     "output_type": "stream",
     "text": [
      "aa    300\n",
      "bb      5\n",
      "cc      6\n",
      "dd     40\n",
      "ee     50\n",
      "Name: 국어점수, dtype: int64\n"
     ]
    }
   ],
   "source": [
    "data = {'aa' : 10, 'bb' : 20, 'cc' : 30, 'dd' : 40, 'ee' : 50}\n",
    "sr = pd.Series(data, name='국어점수') # 시리즈 생성\n",
    "\n",
    "sr['aa'] =100\n",
    "sr.loc['aa'] = 200\n",
    "sr.iloc[0] = 300\n",
    "\n",
    "sr.iloc[1:3] = [1,2]\n",
    "sr['bb':'cc'] = [3,4]\n",
    "sr.loc['bb':'cc'] = [5,6]\n",
    "\n",
    "print(sr)"
   ]
  },
  {
   "cell_type": "markdown",
   "id": "d5bc044c",
   "metadata": {},
   "source": [
    "## series 추가, 수정 #2\n",
    "- append는 지금은 동작하는데, 추후 없어질 지도 모름\n",
    "- FutureWarning: The series.append method is deprecated and will be removed from pandas in a future version. Use pandas.concat instead. concat는 나중에\n",
    "- append는 L:9처럼 하면 추가가 안됨. L:12처럼 자기 자신이나 다른 변수로 받아야 함"
   ]
  },
  {
   "cell_type": "code",
   "execution_count": 10,
   "id": "083dba14",
   "metadata": {},
   "outputs": [
    {
     "name": "stdout",
     "output_type": "stream",
     "text": [
      "aa    10\n",
      "bb    20\n",
      "cc    30\n",
      "dd    40\n",
      "ee    50\n",
      "ff    70\n",
      "Name: 국어점수, dtype: int64\n",
      "aa    10\n",
      "bb    20\n",
      "cc    30\n",
      "dd    40\n",
      "ee    50\n",
      "ff    70\n",
      "Name: 국어점수, dtype: int64\n",
      "aa     10\n",
      "bb     20\n",
      "cc     30\n",
      "dd     40\n",
      "ee     50\n",
      "ff     70\n",
      "gg     80\n",
      "hh     90\n",
      "ii    100\n",
      "dtype: int64\n"
     ]
    },
    {
     "name": "stderr",
     "output_type": "stream",
     "text": [
      "C:\\Users\\Leesm\\AppData\\Local\\Temp\\ipykernel_16496\\1484109858.py:7: FutureWarning: The series.append method is deprecated and will be removed from pandas in a future version. Use pandas.concat instead.\n",
      "  sr.append(pd.Series([80, 90, 100], index=['gg', 'hh', 'ii']))\n",
      "C:\\Users\\Leesm\\AppData\\Local\\Temp\\ipykernel_16496\\1484109858.py:10: FutureWarning: The series.append method is deprecated and will be removed from pandas in a future version. Use pandas.concat instead.\n",
      "  sr = sr.append(pd.Series([80, 90, 100], index=['gg', 'hh', 'ii']))\n"
     ]
    }
   ],
   "source": [
    "data = {'aa' : 10, 'bb' : 20, 'cc' : 30, 'dd' : 40, 'ee' : 50}\n",
    "sr = pd.Series(data, name='국어점수') # 시리즈 생성\n",
    "\n",
    "sr.loc['ff'] = 70 # 있으면 수정 없으면 추가\n",
    "print(sr)\n",
    "\n",
    "sr.append(pd.Series([80, 90, 100], index=['gg', 'hh', 'ii']))\n",
    "print(sr)\n",
    "\n",
    "sr = sr.append(pd.Series([80, 90, 100], index=['gg', 'hh', 'ii']))\n",
    "print(sr)\n"
   ]
  },
  {
   "cell_type": "markdown",
   "id": "365a6238",
   "metadata": {},
   "source": [
    "## series 삭제\n",
    "- sr.drop(부여된 인덱스)\n",
    "- sr = sr.drop(['aa','cc']) -> 이렇게 해줘야만 sr이 바뀜\n",
    "- inplace=True 적용하면 sr로 안받아도 됨 (많이 사용)"
   ]
  },
  {
   "cell_type": "code",
   "execution_count": 11,
   "id": "3eb8cea6",
   "metadata": {},
   "outputs": [
    {
     "name": "stdout",
     "output_type": "stream",
     "text": [
      "aa    10\n",
      "bb    20\n",
      "cc    30\n",
      "dd    40\n",
      "ee    50\n",
      "Name: 국어점수, dtype: int64\n",
      "bb    20\n",
      "dd    40\n",
      "ee    50\n",
      "Name: 국어점수, dtype: int64\n",
      "bb    20\n",
      "Name: 국어점수, dtype: int64\n"
     ]
    }
   ],
   "source": [
    "data = {'aa' : 10, 'bb' : 20, 'cc' : 30, 'dd' : 40, 'ee' : 50}\n",
    "sr = pd.Series(data, name='국어점수') # 시리즈 생성\n",
    "\n",
    "sr.drop(['aa', 'cc'])\n",
    "print(sr)\n",
    "\n",
    "# sr = sr.drop(['aa', 'cc']) # 이렇게 해줘야만 sr이 바뀜 하지만 inplace 적용하면 sr로 안받아도됨\n",
    "\n",
    "sr.drop(['aa', 'cc'], inplace = True)\n",
    "print(sr)\n",
    "\n",
    "sr.drop(sr[sr>=25].index, inplace = True)\n",
    "print(sr)"
   ]
  },
  {
   "cell_type": "markdown",
   "id": "c560b747",
   "metadata": {},
   "source": [
    "## series 정렬\n",
    "- inplace=True 적용하면 sr로 안받아도 됨\n",
    "- ascending=0하고 ascending=False는 동일한데, 후자를 추천. 파이참에서 후자로 쓰라고 warning"
   ]
  },
  {
   "cell_type": "code",
   "execution_count": 12,
   "id": "438bf7cc",
   "metadata": {},
   "outputs": [
    {
     "name": "stdout",
     "output_type": "stream",
     "text": [
      "aa    100\n",
      "bb     20\n",
      "cc     30\n",
      "dd     40\n",
      "ee     50\n",
      "Name: 국어점수, dtype: int64\n",
      "bb     20\n",
      "cc     30\n",
      "dd     40\n",
      "ee     50\n",
      "aa    100\n",
      "Name: 국어점수, dtype: int64\n",
      "ee     50\n",
      "dd     40\n",
      "cc     30\n",
      "bb     20\n",
      "aa    100\n",
      "Name: 국어점수, dtype: int64\n"
     ]
    }
   ],
   "source": [
    "data = {'aa' : 10, 'bb' : 20, 'cc' : 30, 'dd' : 40, 'ee' : 50}\n",
    "sr = pd.Series(data, name='국어점수') # 시리즈 생성\n",
    "\n",
    "sr.iloc[0] = 100\n",
    "print(sr)\n",
    "\n",
    "sr.sort_values(ascending=True, inplace=True)\n",
    "# sr.sort_values(ascending=False, inplace=True)\n",
    "print(sr)\n",
    "\n",
    "sr.sort_index(ascending=0, inplace=True)\n",
    "print(sr)\n"
   ]
  },
  {
   "cell_type": "markdown",
   "id": "f9faba5a",
   "metadata": {},
   "source": [
    "## series 문자열 데이터 검색 #1\n",
    "- 문자 찾을 때는 정규식을 많이 사용함.\n",
    "- 이번기회에 간단한 정규식은 알아두면 유용함"
   ]
  },
  {
   "cell_type": "code",
   "execution_count": 13,
   "id": "ee12a59c",
   "metadata": {},
   "outputs": [
    {
     "name": "stdout",
     "output_type": "stream",
     "text": [
      "aa    False\n",
      "bb    False\n",
      "cc     True\n",
      "dd     True\n",
      "ee     True\n",
      "dtype: bool\n",
      "cc    김철수\n",
      "dd    김순이\n",
      "dtype: object\n",
      "ee    이홍김\n",
      "dtype: object\n",
      "aa    홍길동\n",
      "bb    이순신\n",
      "dd    김순이\n",
      "ee    이홍김\n",
      "dtype: object\n",
      "bb    이순신\n",
      "dtype: object\n",
      "aa    홍길동\n",
      "dd    김순이\n",
      "dtype: object\n"
     ]
    }
   ],
   "source": [
    "sr = pd.Series(['홍길동', '이순신', '김철수', '김순이', '이홍김'])\n",
    "sr.index = ['aa', 'bb', 'cc', 'dd', 'ee']\n",
    "\n",
    "print(sr.str.contains('김'))\n",
    "print(sr[sr.str.contains('^김')]) # 정규식: '김'으로 시작\n",
    "print(sr[sr.str.contains('김$')]) # '김'으로 끝\n",
    "print(sr[sr.str.contains('[홍이]')]) # []:문자의 집합 중하나 홍 OR 이\n",
    "print(sr[sr.str.contains('[홍이]순')]) # 홍순 or 이순\n",
    "print(sr[sr.str.contains('길동|순이')]) # or "
   ]
  },
  {
   "cell_type": "markdown",
   "id": "3c3cd808",
   "metadata": {},
   "source": [
    "## series 문자열 데이터 검색 #2\n",
    " regex=True는 안써도 되는데, 쓰지 않으면 warning (의미: regex.replace → regex 클래스 안에 replace 메서드)"
   ]
  },
  {
   "cell_type": "code",
   "execution_count": 14,
   "id": "8fcebc90",
   "metadata": {},
   "outputs": [
    {
     "name": "stdout",
     "output_type": "stream",
     "text": [
      "aa    홍길동\n",
      "bb    이순신\n",
      "cc    황철수\n",
      "dd    황순이\n",
      "ee    이홍황\n",
      "dtype: object\n",
      "aa    홍길동\n",
      "bb    이순신\n",
      "cc    황철수\n",
      "dd    황순이\n",
      "ee    이홍김\n",
      "dtype: object\n",
      "aa    홍길동\n",
      "bb    이순신\n",
      "cc    김철수\n",
      "dd    김순이\n",
      "ee    이홍황\n",
      "dtype: object\n",
      "aa    홍길동\n",
      "bb    이순신\n",
      "cc     황수\n",
      "dd    김순이\n",
      "ee    이홍김\n",
      "dtype: object\n"
     ]
    }
   ],
   "source": [
    "sr = pd.Series(['홍길동', '이순신', '김철수', '김순이', '이홍김'])\n",
    "sr.index = ['aa', 'bb', 'cc', 'dd', 'ee']\n",
    "\n",
    "print(sr.str.replace('김', '황', regex=True))\n",
    "print(sr.str.replace('^김', '황', regex=True))\n",
    "print(sr.str.replace('김$', '황', regex=True))\n",
    "print(sr.str.replace('김[철이]', '황', regex=True))\n"
   ]
  },
  {
   "cell_type": "markdown",
   "id": "51473510",
   "metadata": {},
   "source": [
    "## series 통계 #1"
   ]
  },
  {
   "cell_type": "code",
   "execution_count": 15,
   "id": "3fb8d669",
   "metadata": {},
   "outputs": [
    {
     "name": "stdout",
     "output_type": "stream",
     "text": [
      "aa    10\n",
      "bb    20\n",
      "cc    30\n",
      "dd    40\n",
      "ee    50\n",
      "Name: 국어점수, dtype: int64\n",
      "-------------\n",
      "ee\n",
      "40\n",
      "-------------\n",
      "aa    10\n",
      "bb    20\n",
      "Name: 국어점수, dtype: int64\n",
      "dd    40\n",
      "ee    50\n",
      "Name: 국어점수, dtype: int64\n"
     ]
    }
   ],
   "source": [
    "data = {'aa' : 10, 'bb' : 20, 'cc' : 30, 'dd' : 40, 'ee' : 50}\n",
    "sr = pd.Series(data, name='국어점수') # 시리즈 생성\n",
    "\n",
    "print(sr)\n",
    "print('-------------')\n",
    "print(sr.idxmax()) # numpy에서는 argmax()이고 pandas 에서는 idxmax()\n",
    "print(sr[sr <=45].max()) # 점수가 45 이하인 데이터 중 가장 큰 값 \n",
    "print('-------------') \n",
    "print(sr.head(2)) # 앞에서 n개\n",
    "print(sr.tail(2)) # 뒤에서 n개"
   ]
  },
  {
   "cell_type": "markdown",
   "id": "9884ee83",
   "metadata": {},
   "source": [
    "## series 통계 #2"
   ]
  },
  {
   "cell_type": "code",
   "execution_count": 16,
   "id": "cc2cfa25",
   "metadata": {},
   "outputs": [
    {
     "name": "stdout",
     "output_type": "stream",
     "text": [
      "aa    10\n",
      "bb    20\n",
      "cc    40\n",
      "dd    40\n",
      "ee    50\n",
      "Name: 국어점수, dtype: int64\n",
      "---------------\n",
      "ee    50\n",
      "cc    40\n",
      "Name: 국어점수, dtype: int64\n",
      "ee    50\n",
      "dd    40\n",
      "Name: 국어점수, dtype: int64\n",
      "ee    50\n",
      "cc    40\n",
      "dd    40\n",
      "Name: 국어점수, dtype: int64\n",
      "aa    10\n",
      "bb    20\n",
      "Name: 국어점수, dtype: int64\n",
      "160\n",
      "32.0\n"
     ]
    }
   ],
   "source": [
    "data = {'aa' : 10, 'bb' : 20, 'cc' : 30, 'dd' : 40, 'ee' : 50}\n",
    "sr = pd.Series(data, name='국어점수') # 시리즈 생성\n",
    "\n",
    "sr.loc['cc'] = 40\n",
    "print(sr)\n",
    "print('---------------')\n",
    "print(sr.nlargest(2)) # top 을 구해주는 함수 -> 역정렬하고 2개만 가지고옴\n",
    "print(sr.nlargest(2, keep='last')) # 마지막만\n",
    "print(sr.nlargest(2, keep='all')) # 같은게 있으면 모두 \n",
    "print(sr.nsmallest(2))\n",
    "print(sr.sum())\n",
    "print(sr.mean())"
   ]
  },
  {
   "cell_type": "markdown",
   "id": "533c39ce",
   "metadata": {},
   "source": [
    "## series 통계 #3"
   ]
  },
  {
   "cell_type": "code",
   "execution_count": 17,
   "id": "083f7e33",
   "metadata": {},
   "outputs": [
    {
     "name": "stdout",
     "output_type": "stream",
     "text": [
      "aa    10\n",
      "bb    20\n",
      "cc    40\n",
      "dd    40\n",
      "ee    50\n",
      "Name: 국어점수, dtype: int64\n",
      "------------\n",
      "16.431676725154983\n",
      "40.0\n",
      "0.25    20.0\n",
      "0.50    40.0\n",
      "0.75    40.0\n",
      "Name: 국어점수, dtype: float64\n",
      "-------------\n",
      "[10 20 40 50]\n",
      "40    2\n",
      "10    1\n",
      "20    1\n",
      "50    1\n",
      "Name: 국어점수, dtype: int64\n"
     ]
    }
   ],
   "source": [
    "data = {'aa' : 10, 'bb' : 20, 'cc' : 30, 'dd' : 40, 'ee' : 50}\n",
    "sr = pd.Series(data, name='국어점수') # 시리즈 생성\n",
    "sr.loc['cc'] = 40\n",
    "print(sr)\n",
    "print('------------')\n",
    "print(sr.std())\n",
    "print(sr.median())\n",
    "print(sr.quantile([0.25,0.5,0.75]))\n",
    "print('-------------')\n",
    "print(sr.unique())\n",
    "print(sr.value_counts())"
   ]
  },
  {
   "cell_type": "markdown",
   "id": "37ff4906",
   "metadata": {},
   "source": [
    "## series 통계 #4\n",
    "- lambda 입력변수:리턴값\n",
    "- 원래 방식으로 하려면 def를 이용해서 user-define함수로 만들고 return해야 함\n",
    "- lambda는, 짧은 기능일 경우(예, 단순 사칙연산, 문자열 추출 등)에 길고 복잡하지 않다는 장점\n",
    "- 물론 복잡하면 기존 def가 더 좋음"
   ]
  },
  {
   "cell_type": "code",
   "execution_count": 18,
   "id": "9b489d43",
   "metadata": {},
   "outputs": [
    {
     "name": "stdout",
     "output_type": "stream",
     "text": [
      "aa    10\n",
      "bb    20\n",
      "cc    40\n",
      "dd    40\n",
      "ee    50\n",
      "Name: 국어점수, dtype: int64\n",
      "------------\n",
      "aa    12\n",
      "bb    22\n",
      "cc    41\n",
      "dd    41\n",
      "ee    51\n",
      "Name: 국어점수, dtype: int64\n",
      "aa    불합격\n",
      "bb    불합격\n",
      "cc     합격\n",
      "dd     합격\n",
      "ee     합격\n",
      "Name: 국어점수, dtype: object\n"
     ]
    }
   ],
   "source": [
    "data = {'aa' : 10, 'bb' : 20, 'cc' : 30, 'dd' : 40, 'ee' : 50}\n",
    "sr = pd.Series(data, name='국어점수') # 시리즈 생성\n",
    "sr.loc['cc'] = 40\n",
    "print(sr)\n",
    "print('------------')\n",
    "print(sr.apply(lambda v: v+1 if v>30 else v+2))\n",
    "print(sr.apply(lambda v: '합격' if v >=40 else '불합격'))"
   ]
  },
  {
   "cell_type": "markdown",
   "id": "a6d931fc",
   "metadata": {},
   "source": [
    "## series 통계 #5\n",
    "- cut: 범위 나누기. 예) 9.96 < aa <= 18.0, 18.0 < bb <= 26.0, ...\n",
    "- ( : 불포함 ] : 포함\n",
    "- 0.5%정도 더 연장시켜서 구간을 나눔"
   ]
  },
  {
   "cell_type": "code",
   "execution_count": 19,
   "id": "2c760d8c",
   "metadata": {},
   "outputs": [
    {
     "name": "stdout",
     "output_type": "stream",
     "text": [
      "aa    10\n",
      "bb    20\n",
      "cc    30\n",
      "dd    40\n",
      "ee    50\n",
      "Name: 국어점수, dtype: int64\n",
      "------------\n",
      "aa    (9.96, 18.0]\n",
      "bb    (18.0, 26.0]\n",
      "cc    (26.0, 34.0]\n",
      "dd    (34.0, 42.0]\n",
      "ee    (42.0, 50.0]\n",
      "Name: 국어점수, dtype: category\n",
      "Categories (5, interval[float64, right]): [(9.96, 18.0] < (18.0, 26.0] < (26.0, 34.0] < (34.0, 42.0] < (42.0, 50.0]]\n",
      "aa     [10.0, 18.0)\n",
      "bb     [18.0, 26.0)\n",
      "cc     [26.0, 34.0)\n",
      "dd     [34.0, 42.0)\n",
      "ee    [42.0, 50.04)\n",
      "Name: 국어점수, dtype: category\n",
      "Categories (5, interval[float64, left]): [[10.0, 18.0) < [18.0, 26.0) < [26.0, 34.0) < [34.0, 42.0) < [42.0, 50.04)]\n",
      "(9.96, 18.0]    1\n",
      "(18.0, 26.0]    1\n",
      "(26.0, 34.0]    1\n",
      "(34.0, 42.0]    1\n",
      "(42.0, 50.0]    1\n",
      "Name: 국어점수, dtype: int64\n"
     ]
    }
   ],
   "source": [
    "data = {'aa' : 10, 'bb' : 20, 'cc' : 30, 'dd' : 40, 'ee' : 50}\n",
    "sr = pd.Series(data, name='국어점수') # 시리즈 생성\n",
    "\n",
    "print(sr)\n",
    "print('------------')\n",
    "print(pd.cut(sr,5))\n",
    "print(pd.cut(sr,5,right=False))\n",
    "print(pd.cut(sr,5).value_counts())"
   ]
  },
  {
   "cell_type": "code",
   "execution_count": 20,
   "id": "1759ed71",
   "metadata": {},
   "outputs": [
    {
     "name": "stdout",
     "output_type": "stream",
     "text": [
      "aa    10\n",
      "bb    20\n",
      "cc    30\n",
      "dd    40\n",
      "ee    50\n",
      "Name: 국어점수, dtype: int64\n",
      "-----------\n",
      "aa     (0, 20]\n",
      "bb     (0, 20]\n",
      "cc    (20, 40]\n",
      "dd    (20, 40]\n",
      "ee    (40, 60]\n",
      "Name: 국어점수, dtype: category\n",
      "Categories (3, interval[int64, right]): [(0, 20] < (20, 40] < (40, 60]]\n",
      "<bound method IndexOpsMixin.value_counts of aa     (0, 20]\n",
      "bb     (0, 20]\n",
      "cc    (20, 40]\n",
      "dd    (20, 40]\n",
      "ee    (40, 60]\n",
      "Name: 국어점수, dtype: category\n",
      "Categories (3, interval[int64, right]): [(0, 20] < (20, 40] < (40, 60]]>\n",
      "aa    C\n",
      "bb    C\n",
      "cc    B\n",
      "dd    B\n",
      "ee    A\n",
      "Name: 국어점수, dtype: category\n",
      "Categories (3, object): ['C' < 'B' < 'A']\n",
      "2\n",
      "3\n",
      "1.0\n"
     ]
    }
   ],
   "source": [
    "data = {'aa' : 10, 'bb' : 20, 'cc' : 30, 'dd' : 40, 'ee' : 50}\n",
    "sr = pd.Series(data, name='국어점수') # 시리즈 생성\n",
    "print(sr)\n",
    "print('-----------')\n",
    "print(pd.cut(sr, [0,20,40,60]))\n",
    "print(pd.cut(sr, [0,20,40,60]).value_counts)\n",
    "print(pd.cut(sr, [0,20,40,60], labels=['C','B','A']))\n",
    "\n",
    "for i in range(2,4):\n",
    "    print(i)\n",
    "    \n",
    "print(3/3)"
   ]
  },
  {
   "cell_type": "markdown",
   "id": "8ad672dd",
   "metadata": {},
   "source": [
    "## 연습문제 #1\n",
    "다음 salary의 세금 3.3%를 제한 실수령액"
   ]
  },
  {
   "cell_type": "code",
   "execution_count": 21,
   "id": "557bbe54",
   "metadata": {},
   "outputs": [
    {
     "name": "stdout",
     "output_type": "stream",
     "text": [
      "0     967.0\n",
      "1    1934.0\n",
      "2    2901.0\n",
      "3    3868.0\n",
      "dtype: float64\n"
     ]
    }
   ],
   "source": [
    "salary = pd.Series([1000,2000,3000,4000])\n",
    "print(salary*(1-0.033))"
   ]
  },
  {
   "cell_type": "markdown",
   "id": "c0bc141c",
   "metadata": {},
   "source": [
    "## 연습문제 #1\n",
    "아래 12개를 구하는 프로그램 작성"
   ]
  },
  {
   "cell_type": "code",
   "execution_count": 22,
   "id": "dde244bb",
   "metadata": {},
   "outputs": [
    {
     "name": "stdout",
     "output_type": "stream",
     "text": [
      "홍길동     90\n",
      "이순신     90\n",
      "임꺽정     55\n",
      "정난정     60\n",
      "이이      76\n",
      "이황      80\n",
      "정도전     76\n",
      "임석현1    88\n",
      "임석현2    30\n",
      "임석현3    25\n",
      "Name: 국어점수, dtype: int64\n",
      "-------------\n",
      "90\n",
      "Index(['홍길동', '이순신'], dtype='object')\n",
      "홍길동     90\n",
      "이순신     90\n",
      "이황      80\n",
      "임석현1    88\n",
      "Name: 국어점수, dtype: int64\n",
      "임꺽정    55\n",
      "정난정    60\n",
      "이이     76\n",
      "이황     80\n",
      "정도전    76\n",
      "Name: 국어점수, dtype: int64\n",
      "임꺽정     55\n",
      "임석현1    88\n",
      "임석현2    30\n",
      "임석현3    25\n",
      "Name: 국어점수, dtype: int64\n",
      "67.0\n",
      "670\n",
      "23.935097428021656\n",
      "홍길동     90\n",
      "이순신     90\n",
      "임꺽정     55\n",
      "정난정     60\n",
      "이이      76\n",
      "이황      80\n",
      "정도전     76\n",
      "임석현1    88\n",
      "Name: 국어점수, dtype: int64\n",
      "홍길동     99.0\n",
      "이순신     99.0\n",
      "임꺽정     60.5\n",
      "정난정     66.0\n",
      "이이      83.6\n",
      "이황      88.0\n",
      "정도전     83.6\n",
      "임석현1    96.8\n",
      "임석현2    36.0\n",
      "임석현3    30.0\n",
      "Name: 국어점수, dtype: float64\n",
      "홍길동     90\n",
      "이순신     90\n",
      "임석현1    88\n",
      "이황      80\n",
      "이이      76\n",
      "Name: 국어점수, dtype: int64\n",
      "(70, 100]    6\n",
      "(0, 50]      2\n",
      "(50, 70]     2\n",
      "Name: 국어점수, dtype: int64\n"
     ]
    }
   ],
   "source": [
    "sr = pd.Series([90, 90, 55, 60, 76 ,80, 76, 88, 30, 25], name=\"국어점수\")\n",
    "sr.index = ['홍길동' ,'이순신', '임꺽정', '정난정', '이이', '이황', '정도전', '임석현1' ,'임석현2', '임석현3']\n",
    "\n",
    "print(sr)\n",
    "print(\"-------------\")\n",
    "\n",
    "# 가장 큰 점수\n",
    "print(sr.max())\n",
    "\n",
    "# 큰 점수 이름\n",
    "# print(sr.idxmax())\n",
    "print(sr.nlargest(2,keep='all').index)\n",
    "\n",
    "# 점수 80점 이상\n",
    "print(sr[sr>=80])\n",
    "\n",
    "# 점수 50 이상 80 이하 \n",
    "print(sr[(sr>=50) & (sr<=80)])\n",
    "\n",
    "# 이름이 임으로 시작하는 데이터\n",
    "print(sr.loc[sr.index.str.contains('^임')])\n",
    "\n",
    "# 점수의 평균 값\n",
    "print(sr.mean())\n",
    "\n",
    "# 점수의 총합 \n",
    "print(sr.sum())\n",
    "\n",
    "# 점수의 표준편차\n",
    "print(sr.std())\n",
    "\n",
    "# 40 이하 데이터 삭제\n",
    "print(sr.drop(sr[sr<=40].index))\n",
    "\n",
    "# 50 이상 가산점 10% 50 미만 20%\n",
    "print(sr.apply(lambda v: v+(v * 0.1) if v >=50 else v+(v * 0.2)))\n",
    "\n",
    "# 점수 top 5\n",
    "print(sr.nlargest(5))\n",
    "\n",
    "# 점수 범위 설정 후 ,개수\n",
    "print(pd.cut(sr, [0,50,70,100]).value_counts())"
   ]
  }
 ],
 "metadata": {
  "kernelspec": {
   "display_name": "Python 3 (ipykernel)",
   "language": "python",
   "name": "python3"
  },
  "language_info": {
   "codemirror_mode": {
    "name": "ipython",
    "version": 3
   },
   "file_extension": ".py",
   "mimetype": "text/x-python",
   "name": "python",
   "nbconvert_exporter": "python",
   "pygments_lexer": "ipython3",
   "version": "3.9.16"
  }
 },
 "nbformat": 4,
 "nbformat_minor": 5
}
