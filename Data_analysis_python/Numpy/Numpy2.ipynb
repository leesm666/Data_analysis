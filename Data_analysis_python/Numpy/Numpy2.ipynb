{
 "cells": [
  {
   "cell_type": "markdown",
   "id": "c7813680",
   "metadata": {},
   "source": [
    "# Numpy 2차원데이터"
   ]
  },
  {
   "cell_type": "markdown",
   "id": "fa294d25",
   "metadata": {},
   "source": [
    "## 다양한 indexing 방법"
   ]
  },
  {
   "cell_type": "code",
   "execution_count": 1,
   "id": "b67f77a4",
   "metadata": {},
   "outputs": [
    {
     "name": "stdout",
     "output_type": "stream",
     "text": [
      "[[ 1  2  3]\n",
      " [ 7  5  2]\n",
      " [10  1  8]\n",
      " [ 6  3  4]]\n",
      "(4, 3)\n",
      "[7 5 2]\n",
      "5\n",
      "[[ 1  2  3]\n",
      " [10  1  8]\n",
      " [ 6  3  4]]\n",
      "[5 1]\n",
      "[[ 7  2]\n",
      " [10  8]\n",
      " [ 6  4]]\n"
     ]
    }
   ],
   "source": [
    "import numpy as np\n",
    "\n",
    "data = np.array([[1,2,3],\n",
    "                 [7,5,2],\n",
    "                 [10,1,8],\n",
    "                 [6,3,4]])\n",
    "\n",
    "print(data)\n",
    "print(data.shape)\n",
    "print(data[1])\n",
    "print(data[1,1])\n",
    "print(data[[0,2,3]]) # 0,2,3 번째 행 \n",
    "print(data[1:3,1])\n",
    "print(data[1:,[0,2]])\n"
   ]
  },
  {
   "cell_type": "markdown",
   "id": "69f7804e",
   "metadata": {},
   "source": [
    "## 다양한 계산법\n",
    "행렬 중에 언급이 없으면 행부터"
   ]
  },
  {
   "cell_type": "code",
   "execution_count": 2,
   "id": "d43ddf24",
   "metadata": {},
   "outputs": [
    {
     "name": "stdout",
     "output_type": "stream",
     "text": [
      "[[ 1  2  3]\n",
      " [ 7  5  2]\n",
      " [10  1  8]\n",
      " [ 6  3  4]]\n",
      "-----------\n",
      "[[ 3  4  5]\n",
      " [ 9  7  4]\n",
      " [12  3 10]\n",
      " [ 8  5  6]]\n",
      "-----------\n",
      "[[ 1  2  3]\n",
      " [ 9  7  4]\n",
      " [10  1  8]\n",
      " [ 6  3  4]]\n"
     ]
    }
   ],
   "source": [
    "data = np.array([[1,2,3],\n",
    "                 [7,5,2],\n",
    "                 [10,1,8],\n",
    "                 [6,3,4]])\n",
    "\n",
    "print(data)\n",
    "print(\"-----------\")\n",
    "\n",
    "print(data + 2)\n",
    "print(\"-----------\")\n",
    "\n",
    "data[1] += 2 # 1번째 행에 2씩 더함\n",
    "print(data)\n",
    "\n"
   ]
  },
  {
   "cell_type": "markdown",
   "id": "9fbbe0a3",
   "metadata": {},
   "source": [
    "## 다양한 추가 방법\n",
    "- axis=0: 행\n",
    "- axis=1: 열\n",
    "- axis=1인 경우, ax내용을 일단 열에 배치하고 ay 추가"
   ]
  },
  {
   "cell_type": "code",
   "execution_count": 3,
   "id": "7c0ae23e",
   "metadata": {},
   "outputs": [
    {
     "name": "stdout",
     "output_type": "stream",
     "text": [
      "[1 2 3 4 5 6 7 8]\n",
      "----------------\n",
      "[[1 2]\n",
      " [3 4]\n",
      " [5 6]\n",
      " [7 8]]\n",
      "----------------\n",
      "[[1 2 5 6]\n",
      " [3 4 7 8]]\n",
      "----------------\n"
     ]
    }
   ],
   "source": [
    "ax = np.array([[1,2],[3,4]])\n",
    "ay = np.array([[5,6],[7,8]])\n",
    "\n",
    "# 1차원으로 풀어서\n",
    "print(np.append(ax,ay, axis=None))\n",
    "print(\"----------------\")\n",
    "\n",
    "# row(행)에 추가\n",
    "print(np.append(ax, ay, axis =0))\n",
    "print(\"----------------\")\n",
    "\n",
    "# column(열)에 추가\n",
    "print(np.append(ax, ay, axis =1))\n",
    "print(\"----------------\")\n"
   ]
  },
  {
   "cell_type": "markdown",
   "id": "c94ee905",
   "metadata": {},
   "source": [
    "## 다양한 삭제/정렬 방법\n",
    "- axis=0: 행\n",
    "- axis=1: 열"
   ]
  },
  {
   "cell_type": "code",
   "execution_count": 4,
   "id": "f25102e7",
   "metadata": {},
   "outputs": [
    {
     "name": "stdout",
     "output_type": "stream",
     "text": [
      "[[ 1  2  3]\n",
      " [ 7  5  2]\n",
      " [10  1  8]\n",
      " [ 6  3  4]]\n",
      "[ 2  7  5  2 10  1  8  6  3  4]\n",
      "[[7 5 2]\n",
      " [6 3 4]]\n",
      "[[2]\n",
      " [5]\n",
      " [1]\n",
      " [3]]\n",
      "[ 1  1  2  2  3  3  4  5  6  7  8 10]\n"
     ]
    }
   ],
   "source": [
    "data = np.array([[1,2,3],\n",
    "                 [7,5,2],\n",
    "                 [10,1,8],\n",
    "                 [6,3,4]])\n",
    "\n",
    "print(data)\n",
    "print(np.delete(data,[0,2]))\n",
    "print(np.delete(data,[0,2], axis=0)) # 행 삭제 \n",
    "print(np.delete(data,[0,2], axis=1)) # 열 삭제\n",
    "print(np.sort(data, axis=None))\n"
   ]
  },
  {
   "cell_type": "markdown",
   "id": "0367059d",
   "metadata": {},
   "source": [
    "## 다양한 합/평균\n",
    "axis=0/1에 따라 행/렬이 바뀜에 주의"
   ]
  },
  {
   "cell_type": "code",
   "execution_count": 5,
   "id": "c697de0b",
   "metadata": {},
   "outputs": [
    {
     "name": "stdout",
     "output_type": "stream",
     "text": [
      "[[ 1  2  3]\n",
      " [ 7  5  2]\n",
      " [10  1  8]\n",
      " [ 6  3  4]]\n",
      "[24 11 17]\n",
      "[ 6 14 19 13]\n",
      "52\n",
      "-------------\n",
      "[6.   2.75 4.25]\n",
      "[2.         4.66666667 6.33333333 4.33333333]\n",
      "-------------\n"
     ]
    }
   ],
   "source": [
    "data = np.array([[1,2,3],\n",
    "                 [7,5,2],\n",
    "                 [10,1,8],\n",
    "                 [6,3,4]])\n",
    "\n",
    "# 다양한 합/평균 axis =0/1 에 따라 행/렬이 바뀜\n",
    "print(data)\n",
    "print(data.sum(axis=0)) # 열 별 통계값\n",
    "print(data.sum(axis=1)) # 행 별 통계값\n",
    "print(data.sum())\n",
    "print(\"-------------\")\n",
    "\n",
    "print(data.mean(axis=0))\n",
    "print(data.mean(axis=1))\n",
    "print(\"-------------\")"
   ]
  },
  {
   "cell_type": "markdown",
   "id": "755944e5",
   "metadata": {},
   "source": [
    "## 다양한 최대 계산"
   ]
  },
  {
   "cell_type": "code",
   "execution_count": 6,
   "id": "706c4158",
   "metadata": {},
   "outputs": [
    {
     "name": "stdout",
     "output_type": "stream",
     "text": [
      "[[ 1  2  3]\n",
      " [ 7  5  2]\n",
      " [10  1  8]\n",
      " [ 6  3  4]]\n",
      "10\n",
      "6\n",
      "[2 1 2]\n",
      "[2 0 0 0]\n",
      "---------------\n",
      "1 2 3\n",
      "7 5 2\n",
      "10 1 8\n",
      "6 3 4\n"
     ]
    }
   ],
   "source": [
    "data = np.array([[1,2,3],\n",
    "                 [7,5,2],\n",
    "                 [10,1,8],\n",
    "                 [6,3,4]])\n",
    "\n",
    "print(data)\n",
    "print(np.max(data))\n",
    "print(data.argmax())\n",
    "print(data.argmax(axis=0)) # 열에서 가장 큰 값의 index 값 \n",
    "print(data.argmax(axis=1)) # 행에서 가장 큰 값의 index 값\n",
    "print(\"---------------\")\n",
    "\n",
    "for a, b, c in data:\n",
    "    print(a,b,c)"
   ]
  },
  {
   "cell_type": "markdown",
   "id": "f47b42ed",
   "metadata": {},
   "source": [
    "## 다양한 수학연산"
   ]
  },
  {
   "cell_type": "code",
   "execution_count": 7,
   "id": "e43391ff",
   "metadata": {},
   "outputs": [
    {
     "name": "stdout",
     "output_type": "stream",
     "text": [
      "[[-1.2 -1.3  0.3]\n",
      " [ 0.9  0.4  0. ]\n",
      " [ 0.5  0.3 -0.1]\n",
      " [ 0.7 -3.1  0.8]\n",
      " [ 0.4  1.2  0.5]]\n",
      "[[1.2 1.3 0.3]\n",
      " [0.9 0.4 0. ]\n",
      " [0.5 0.3 0.1]\n",
      " [0.7 3.1 0.8]\n",
      " [0.4 1.2 0.5]]\n",
      "[[       nan        nan 0.54772256]\n",
      " [0.9486833  0.63245553 0.        ]\n",
      " [0.70710678 0.54772256        nan]\n",
      " [0.83666003        nan 0.89442719]\n",
      " [0.63245553 1.09544512 0.70710678]]\n",
      "[[1.44 1.69 0.09]\n",
      " [0.81 0.16 0.  ]\n",
      " [0.25 0.09 0.01]\n",
      " [0.49 9.61 0.64]\n",
      " [0.16 1.44 0.25]]\n"
     ]
    },
    {
     "name": "stderr",
     "output_type": "stream",
     "text": [
      "C:\\Users\\Leesm\\AppData\\Local\\Temp\\ipykernel_18456\\1680953225.py:9: RuntimeWarning: invalid value encountered in sqrt\n",
      "  print(np.sqrt(arr)) # 제곱근 == arr ** 0.5\n"
     ]
    }
   ],
   "source": [
    "arr = np.array([[-1.2, -1.3, 0.3],\n",
    "                [0.9, 0.4, 0],\n",
    "                [0.5, 0.3, -.1], \n",
    "                [0.7, -3.1, 0.8], \n",
    "                [0.4, 1.2, 0.5]])\n",
    "\n",
    "print(arr)\n",
    "print(np.abs(arr)) # 절댓값\n",
    "print(np.sqrt(arr)) # 제곱근 == arr ** 0.5\n",
    "print(np.square(arr)) # 제곱"
   ]
  },
  {
   "cell_type": "code",
   "execution_count": 8,
   "id": "b0f54cd2",
   "metadata": {},
   "outputs": [
    {
     "name": "stdout",
     "output_type": "stream",
     "text": [
      "[[-1.2 -1.3  0.3]\n",
      " [ 0.9  0.4  0. ]\n",
      " [ 0.5  0.3 -0.1]\n",
      " [ 0.7 -3.1  0.8]\n",
      " [ 0.4  1.2  0.5]]\n",
      "[[0.30119421 0.27253179 1.34985881]\n",
      " [2.45960311 1.4918247  1.        ]\n",
      " [1.64872127 1.34985881 0.90483742]\n",
      " [2.01375271 0.0450492  2.22554093]\n",
      " [1.4918247  3.32011692 1.64872127]]\n",
      "[[        nan         nan -1.2039728 ]\n",
      " [-0.10536052 -0.91629073        -inf]\n",
      " [-0.69314718 -1.2039728          nan]\n",
      " [-0.35667494         nan -0.22314355]\n",
      " [-0.91629073  0.18232156 -0.69314718]]\n",
      "[[        nan         nan -0.52287875]\n",
      " [-0.04575749 -0.39794001        -inf]\n",
      " [-0.30103    -0.52287875         nan]\n",
      " [-0.15490196         nan -0.09691001]\n",
      " [-0.39794001  0.07918125 -0.30103   ]]\n"
     ]
    },
    {
     "name": "stderr",
     "output_type": "stream",
     "text": [
      "C:\\Users\\Leesm\\AppData\\Local\\Temp\\ipykernel_18456\\3019650080.py:9: RuntimeWarning: divide by zero encountered in log\n",
      "  print(np.log(arr)) # 상용로그\n",
      "C:\\Users\\Leesm\\AppData\\Local\\Temp\\ipykernel_18456\\3019650080.py:9: RuntimeWarning: invalid value encountered in log\n",
      "  print(np.log(arr)) # 상용로그\n",
      "C:\\Users\\Leesm\\AppData\\Local\\Temp\\ipykernel_18456\\3019650080.py:10: RuntimeWarning: divide by zero encountered in log10\n",
      "  print(np.log10(arr))\n",
      "C:\\Users\\Leesm\\AppData\\Local\\Temp\\ipykernel_18456\\3019650080.py:10: RuntimeWarning: invalid value encountered in log10\n",
      "  print(np.log10(arr))\n"
     ]
    }
   ],
   "source": [
    "arr = np.array([[-1.2, -1.3, 0.3],\n",
    "                [0.9, 0.4, 0],\n",
    "                [0.5, 0.3, -.1], \n",
    "                [0.7, -3.1, 0.8], \n",
    "                [0.4, 1.2, 0.5]])\n",
    "\n",
    "print(arr)\n",
    "print(np.exp(arr))\n",
    "print(np.log(arr)) # 상용로그\n",
    "print(np.log10(arr)) "
   ]
  },
  {
   "cell_type": "code",
   "execution_count": 9,
   "id": "cab2f9af",
   "metadata": {},
   "outputs": [
    {
     "name": "stdout",
     "output_type": "stream",
     "text": [
      "[[-1.2 -1.3  0.3]\n",
      " [ 0.9  0.4  0. ]\n",
      " [ 0.5  0.3 -0.1]\n",
      " [ 0.7 -3.1  0.8]\n",
      " [ 0.4  1.2  0.5]]\n",
      "[[-1. -1.  1.]\n",
      " [ 1.  1.  0.]\n",
      " [ 1.  1. -1.]\n",
      " [ 1. -1.  1.]\n",
      " [ 1.  1.  1.]]\n",
      "[[-1. -1.  1.]\n",
      " [ 1.  1.  0.]\n",
      " [ 1.  1. -0.]\n",
      " [ 1. -3.  1.]\n",
      " [ 1.  2.  1.]]\n",
      "[[-2. -2.  0.]\n",
      " [ 0.  0.  0.]\n",
      " [ 0.  0. -1.]\n",
      " [ 0. -4.  0.]\n",
      " [ 0.  1.  0.]]\n"
     ]
    }
   ],
   "source": [
    "arr = np.array([[-1.2, -1.3, 0.3],\n",
    "                [0.9, 0.4, 0],\n",
    "                [0.5, 0.3, -.1], \n",
    "                [0.7, -3.1, 0.8], \n",
    "                [0.4, 1.2, 0.5]])\n",
    "\n",
    "print(arr)\n",
    "print(np.sign(arr)) # 부호 출력\n",
    "print(np.ceil(arr)) # 올림\n",
    "print(np.floor(arr)) # 내림"
   ]
  },
  {
   "cell_type": "code",
   "execution_count": 10,
   "id": "c042bdff",
   "metadata": {},
   "outputs": [
    {
     "name": "stdout",
     "output_type": "stream",
     "text": [
      "[[-1.2 -1.3  0.3]\n",
      " [ 0.9  0.4  0. ]\n",
      " [ 0.5  0.3 -0.1]\n",
      " [ 0.7 -3.1  0.8]\n",
      " [ 0.4  1.2  0.5]]\n",
      "[[-0.93203909 -0.96355819  0.29552021]\n",
      " [ 0.78332691  0.38941834  0.        ]\n",
      " [ 0.47942554  0.29552021 -0.09983342]\n",
      " [ 0.64421769 -0.04158066  0.71735609]\n",
      " [ 0.38941834  0.93203909  0.47942554]]\n",
      "[[-0.83365461 -0.86172316  0.29131261]\n",
      " [ 0.71629787  0.37994896  0.        ]\n",
      " [ 0.46211716  0.29131261 -0.09966799]\n",
      " [ 0.60436778 -0.99594936  0.66403677]\n",
      " [ 0.37994896  0.83365461  0.46211716]]\n",
      "-------------\n",
      "[[False False False]\n",
      " [False False False]\n",
      " [False False False]\n",
      " [False False False]\n",
      " [False False False]]\n",
      "[[ True  True False]\n",
      " [False False False]\n",
      " [False False  True]\n",
      " [False  True False]\n",
      " [False False False]]\n",
      "-------------\n",
      "[[False False False]\n",
      " [False False False]\n",
      " [False False False]\n",
      " [False False False]\n",
      " [False False False]]\n"
     ]
    },
    {
     "name": "stderr",
     "output_type": "stream",
     "text": [
      "C:\\Users\\Leesm\\AppData\\Local\\Temp\\ipykernel_18456\\4019157603.py:14: RuntimeWarning: divide by zero encountered in log\n",
      "  print(np.isnan(np.log(arr)))\n",
      "C:\\Users\\Leesm\\AppData\\Local\\Temp\\ipykernel_18456\\4019157603.py:14: RuntimeWarning: invalid value encountered in log\n",
      "  print(np.isnan(np.log(arr)))\n"
     ]
    }
   ],
   "source": [
    "arr = np.array([[-1.2, -1.3, 0.3],\n",
    "                [0.9, 0.4, 0],\n",
    "                [0.5, 0.3, -.1], \n",
    "                [0.7, -3.1, 0.8], \n",
    "                [0.4, 1.2, 0.5]])\n",
    "\n",
    "print(arr)\n",
    "print(np.sin(arr))\n",
    "print(np.tanh(arr))\n",
    "print(\"-------------\")\n",
    "\n",
    "# 각 성분이 NaN인 경우 True를, 안니 경우 False를 반환\n",
    "print(np.isnan(arr))\n",
    "print(np.isnan(np.log(arr)))\n",
    "print(\"-------------\")\n",
    "\n",
    "# 각 성분이 무한대인 경우 True를, 아닌 경우 False를 반환\n",
    "print(np.isinf(arr))"
   ]
  }
 ],
 "metadata": {
  "kernelspec": {
   "display_name": "Python 3 (ipykernel)",
   "language": "python",
   "name": "python3"
  },
  "language_info": {
   "codemirror_mode": {
    "name": "ipython",
    "version": 3
   },
   "file_extension": ".py",
   "mimetype": "text/x-python",
   "name": "python",
   "nbconvert_exporter": "python",
   "pygments_lexer": "ipython3",
   "version": "3.9.16"
  }
 },
 "nbformat": 4,
 "nbformat_minor": 5
}
