{
 "cells": [
  {
   "cell_type": "markdown",
   "id": "60a8118d",
   "metadata": {},
   "source": [
    "# Numpy"
   ]
  },
  {
   "cell_type": "code",
   "execution_count": 1,
   "id": "eb8cf560",
   "metadata": {},
   "outputs": [],
   "source": [
    "import numpy as np"
   ]
  },
  {
   "cell_type": "markdown",
   "id": "892ed4ad",
   "metadata": {},
   "source": [
    "## Numpy shape\n",
    "- shape을 통해 해당 array의 크기를 알 수 있음\n",
    "- shape을 확인함으로써 몇개의 데이터가 있는지, 몇 차원으로 존재하는지 등을 확인가능\n",
    "- arr1.shape의 결과는 (5,) 으로써, 1차원의 데이터이며 총 5라는 크기를 갖고 있음을확인\n",
    "- 콤마 다음에 아무것도 없다는 것은 1차원이라는 뜻 (5, 1)"
   ]
  },
  {
   "cell_type": "code",
   "execution_count": 2,
   "id": "def9bfb8",
   "metadata": {},
   "outputs": [
    {
     "name": "stdout",
     "output_type": "stream",
     "text": [
      "[1 2 3 4 5]\n",
      "(5,)\n",
      "---------------------\n",
      "[1 2 3 4 5]\n",
      "(5,)\n",
      "int32\n"
     ]
    }
   ],
   "source": [
    "data1 = [1, 2, 3, 4, 5]\n",
    "data2 = [1, 2, 3, 3.5, 4]\n",
    "\n",
    "arr1 = np.array(data1)\n",
    "print(arr1)\n",
    "print(arr1.shape) # .shape - > (데이터 수,) 1차원\n",
    "print(\"---------------------\")\n",
    "\n",
    "arr2 = np.array([1, 2, 3, 4, 5])\n",
    "print(arr2)\n",
    "print(arr2.shape)\n",
    "print(arr2.dtype) # 데이터 타입"
   ]
  },
  {
   "cell_type": "markdown",
   "id": "1b375b1d",
   "metadata": {},
   "source": [
    "- arr3.shape의 결과는 (5,) 으로써, 1차원의 데이터이며 총 5라는 크기를 갖고 있음을 확인\n",
    "- arr4.shape 는 (4, 3)으로 2차원"
   ]
  },
  {
   "cell_type": "code",
   "execution_count": 3,
   "id": "ce655399",
   "metadata": {},
   "outputs": [
    {
     "name": "stdout",
     "output_type": "stream",
     "text": [
      "[1.  2.  3.  3.5 5. ]\n",
      "(5,)\n",
      "float64\n",
      "------------------\n",
      "[[ 1  2  3]\n",
      " [ 4  5  6]\n",
      " [ 7  8  9]\n",
      " [10 11 12]]\n",
      "(4, 3)\n"
     ]
    }
   ],
   "source": [
    "data1 = [1, 2, 3, 4, 5]\n",
    "data2 = [1, 2, 3, 3.5, 5]\n",
    "\n",
    "arr3 = np.array(data2)\n",
    "print(arr3)\n",
    "print(arr3.shape)\n",
    "print(arr3.dtype)\n",
    "print(\"------------------\")\n",
    "\n",
    "arr4 = np.array([[1,2,3], [4,5,6], [7,8,9], [10,11,12]])\n",
    "print(arr4)\n",
    "print(arr4.shape)\n"
   ]
  },
  {
   "cell_type": "markdown",
   "id": "45d7eed8",
   "metadata": {},
   "source": [
    "## np.zeros() 함수\n",
    "인자로 받는 크기만큼, 모든요소가 0인 array를 만듬\n",
    "## np.ones() 함수\n",
    "인자로 받는 크기만큼, 모든요소가 1인 array를 만듬\n",
    "## np.arange() 함수\n",
    "인자로 받는 값 만큼 1씩 증가하는 1차원 array를 만듬. \n",
    "이때 하나의 인자만 입력하면 0 ~ 입력한 인자, 값 만큼의 크기를 가짐"
   ]
  },
  {
   "cell_type": "code",
   "execution_count": 4,
   "id": "382fe3cf",
   "metadata": {},
   "outputs": [
    {
     "name": "stdout",
     "output_type": "stream",
     "text": [
      "[0. 0. 0. 0. 0. 0. 0. 0. 0. 0.]\n",
      "[[0. 0. 0. 0. 0.]\n",
      " [0. 0. 0. 0. 0.]\n",
      " [0. 0. 0. 0. 0.]]\n",
      "----------------\n",
      "[1. 1. 1. 1. 1. 1. 1. 1. 1.]\n",
      "[[1. 1. 1. 1. 1. 1. 1. 1. 1. 1.]\n",
      " [1. 1. 1. 1. 1. 1. 1. 1. 1. 1.]]\n",
      "--------------------\n",
      "[0 1 2 3 4 5 6 7 8 9]\n",
      "[3 4 5 6 7 8 9]\n"
     ]
    }
   ],
   "source": [
    "print(np.zeros(10))\n",
    "print(np.zeros((3,5)))\n",
    "print(\"----------------\")\n",
    "\n",
    "print(np.ones(9))\n",
    "print(np.ones((2,10)))\n",
    "print(\"--------------------\")\n",
    "\n",
    "print(np.arange(10))\n",
    "print(np.arange(3,10))"
   ]
  },
  {
   "cell_type": "markdown",
   "id": "d7de9c32",
   "metadata": {},
   "source": [
    "## Array 연산\n",
    "- 기본적으로 numpy에서 연산을 할 때는 크기가 서로 동일한 array 끼리 연산이 진행\n",
    "- 이때 같은 위치에 있는 요소들 끼리 연산이 진행 (물론, array의 [브로드 캐스트]라고 해서 크기가 달라고 연산이 되지만 지양)\n",
    "- array 곱셈은, (주의) 행렬의 곱처럼 곱셈이 진행되는 것이 아니라 각 요소별로 곱셈이 진행"
   ]
  },
  {
   "cell_type": "code",
   "execution_count": 5,
   "id": "d7144ff0",
   "metadata": {},
   "outputs": [
    {
     "name": "stdout",
     "output_type": "stream",
     "text": [
      "(2, 3)\n",
      "(2, 3)\n",
      "---------------------\n",
      "[[11 13 15]\n",
      " [17 19 21]]\n",
      "[[-9 -9 -9]\n",
      " [-9 -9 -9]]\n",
      "[[10 22 36]\n",
      " [52 70 90]]\n",
      "[[0.1        0.18181818 0.25      ]\n",
      " [0.30769231 0.35714286 0.4       ]]\n"
     ]
    }
   ],
   "source": [
    "arr1 = np.array([[1,2,3], [4,5,6]])\n",
    "print(arr1.shape)\n",
    "\n",
    "arr2 = np.array([[10,11,12], [13,14,15]])\n",
    "print(arr2.shape)\n",
    "print(\"---------------------\")\n",
    "\n",
    "print(arr1 + arr2)\n",
    "print(arr1 - arr2)\n",
    "print(arr1 * arr2)\n",
    "print(arr1 / arr2)\n"
   ]
  },
  {
   "cell_type": "markdown",
   "id": "9f4cb89f",
   "metadata": {},
   "source": [
    "## Array 인덱싱\n",
    "- numpy에서 사용되는 인덱싱은 기본적으로 python 인덱싱과 동일\n",
    "- 즉, 시작은 1번째로 시작하는 것이 아니라 0번째로 시작"
   ]
  },
  {
   "cell_type": "code",
   "execution_count": 6,
   "id": "b32ff413",
   "metadata": {},
   "outputs": [
    {
     "name": "stdout",
     "output_type": "stream",
     "text": [
      "0\n",
      "[4 5 6 7 8 9]\n",
      "9\n",
      "-------------\n",
      "12\n",
      "[ 4  8 12]\n"
     ]
    }
   ],
   "source": [
    "arr1 = np.arange(10)\n",
    "print(arr1[0])\n",
    "print(arr1[4:])\n",
    "print(arr1[-1])\n",
    "print(\"-------------\")\n",
    "\n",
    "arr2 = np.array([[1, 2, 3, 4],\n",
    "                 [5, 6, 7, 8],\n",
    "                 [9, 10, 11, 12]])\n",
    "\n",
    "print(arr2[2,3])\n",
    "print(arr2[:,3]) # : --> 행 부분 전체"
   ]
  },
  {
   "cell_type": "markdown",
   "id": "8e7f7be8",
   "metadata": {},
   "source": [
    "## arrange 응용\n",
    " randint는 integer의 임의의 random 수를 반환"
   ]
  },
  {
   "cell_type": "code",
   "execution_count": 7,
   "id": "3ca4eee8",
   "metadata": {},
   "outputs": [
    {
     "name": "stdout",
     "output_type": "stream",
     "text": [
      "[ 1  2  3  4  5  6  7  8  9 10]\n",
      "[1 3 5 7 9]\n",
      "[ 6 10  2  3  2]\n",
      "[[ 5  6]\n",
      " [10  5]\n",
      " [ 3  6]]\n"
     ]
    }
   ],
   "source": [
    "# 1부터 10까지 1식 증가\n",
    "arr3 = np.arange(1,11,1)\n",
    "print(arr3)\n",
    "\n",
    "# 1부터 10까지 2식 증가\n",
    "arr4 = np.arange(1,11,2)\n",
    "print(arr4)\n",
    "\n",
    "# 1부터 10까지 5개를 랜덤으로 뽑아 1차원 행렬\n",
    "arr5 = np.random.randint(1,11,size=5)\n",
    "print(arr5)\n",
    "\n",
    "# 1부터 10까지 (3,2)인 2차원 행렬\n",
    "arr6 = np.random.randint(1,11,size=(3,2))\n",
    "print(arr6)"
   ]
  },
  {
   "cell_type": "markdown",
   "id": "4d040891",
   "metadata": {},
   "source": [
    "## np.random 함수들\n",
    "#### np.random.rand() \n",
    "0~1 사이의 random number\n",
    "#### np.random.randn()\n",
    "0~1 사이의 random number 이기는 한데,\n",
    "평균이 0이고 편차가 1인 표준정규분포만족\n",
    "#### np.random.choice()\n",
    "임의로 2번째 parameter 개수만큼 선택"
   ]
  },
  {
   "cell_type": "code",
   "execution_count": 8,
   "id": "9d1c832f",
   "metadata": {},
   "outputs": [
    {
     "name": "stdout",
     "output_type": "stream",
     "text": [
      "[0.34601526 0.74309652 0.95505143 0.93130749 0.82051763]\n",
      "[[0.00919358 0.55394348 0.86693803]\n",
      " [0.50194965 0.11678767 0.86822697]]\n",
      "[0.52389717 0.33008268 0.8699815  0.26854387 0.23770183]\n",
      "[[-0.34738408 -0.02873094 -1.21578535]\n",
      " [ 0.59189774  0.69795735  0.26777916]]\n",
      "[5]\n",
      "[ 1  1 10  4  3]\n"
     ]
    }
   ],
   "source": [
    "# rand --> 0~1 사이 실수값 반환\n",
    "print(np.random.rand(5))\n",
    "print(np.random.rand(2,3))\n",
    "\n",
    "# randn --> 표준정규분포 (평균0, 편차1)\n",
    "print(np.random.randn(5)) \n",
    "print(np.random.randn(2,3))\n",
    "\n",
    "# [1, 2, 3, 4, 5] 중에 1개를 임의로 선택 \n",
    "print(np.random.choice([1, 2, 3, 4, 5], 1))\n",
    "\n",
    "# 1~10 중에 5개를 임의로 선택\n",
    "print(np.random.choice(np.arange(1,11),5))"
   ]
  },
  {
   "cell_type": "markdown",
   "id": "e67fc91b",
   "metadata": {},
   "source": [
    "## numpy.unique() \n",
    "#### 고유한 것들만 추출하는 기능\n",
    "- return_index = True 인 경우 각 고유 값이 처음 나타나는 인덱스 배열을 반환\n",
    "- return_counts = True 이면 입력 배열의 각 고유 값의 개수 배열을 반환\n",
    "- return_inverse = True이면 고유 배열의 인덱스를 반환하며 입력 배열을 재구성"
   ]
  },
  {
   "cell_type": "code",
   "execution_count": 9,
   "id": "75de12f5",
   "metadata": {},
   "outputs": [
    {
     "name": "stdout",
     "output_type": "stream",
     "text": [
      "[2 3 4 5 7]\n",
      "(array([2, 3, 4, 5, 7]), array([0, 1, 2, 3, 5], dtype=int64))\n",
      "[2 3 4 5 7]\n",
      "[0 1 2 3 5]\n",
      "------------------\n",
      "(array([2, 3, 4, 5, 7]), array([2, 2, 3, 1, 1], dtype=int64))\n",
      "(array([2, 3, 4, 5, 7]), array([0, 1, 2, 3, 2, 4, 2, 0, 1], dtype=int64))\n"
     ]
    }
   ],
   "source": [
    "a = np.array([[2,3,4],\n",
    "              [5,4,7],\n",
    "              [4,2,3]])\n",
    "\n",
    "print(np.unique(a))\n",
    "\n",
    "print(np.unique(a, return_index=True)) # 배열 인덱스\n",
    "\n",
    "v, c = np.unique(a, return_index=True)\n",
    "print(v)\n",
    "print(c)\n",
    "print(\"------------------\")\n",
    "\n",
    "print(np.unique(a, return_counts=True)) # 배열의 각 고유 값의 개수 \n",
    "print(np.unique(a, return_inverse=True)) # 고유의 값이 5개여서 인덱스 값을 0~4로 재구성"
   ]
  },
  {
   "cell_type": "markdown",
   "id": "32593313",
   "metadata": {},
   "source": [
    "#### 작은것에서 큰 것으로 오름차순으로 나옴\n",
    "- axis=0 # 고유한 행\n",
    "- axis=1 # 고유한 열"
   ]
  },
  {
   "cell_type": "code",
   "execution_count": 10,
   "id": "888d25a8",
   "metadata": {},
   "outputs": [
    {
     "name": "stdout",
     "output_type": "stream",
     "text": [
      "[[2 3 2]\n",
      " [4 2 3]]\n",
      "--------------------\n",
      "[[2 3]\n",
      " [2 3]\n",
      " [3 2]]\n",
      "[[2 2 3]\n",
      " [2 3 3]\n",
      " [3 3 2]]\n"
     ]
    }
   ],
   "source": [
    "a = np.array([[2,3,2],\n",
    "              [2,3,2], \n",
    "              [4,2,3]])\n",
    " \n",
    "print(np.unique(a, axis= 0)) # 종복 제거\n",
    "print(\"--------------------\")\n",
    "\n",
    "b = np.array([[2,3,2],\n",
    "              [2,3,2],\n",
    "              [3,2,3]])\n",
    "\n",
    "print(np.unique(b, axis=1)) # 중복 제거\n",
    "\n",
    "c = np.array([[2,3,2],\n",
    "              [2,3,3],\n",
    "              [3,2,3]])\n",
    "\n",
    "print(np.unique(c, axis=1)) # 오름차순으로 나옴 2번째 열이 마지막으로 이동"
   ]
  },
  {
   "cell_type": "markdown",
   "id": "92146a11",
   "metadata": {},
   "source": [
    "## numpy.zip()\n",
    "묶는 기능"
   ]
  },
  {
   "cell_type": "code",
   "execution_count": 11,
   "id": "6a1d7e28",
   "metadata": {},
   "outputs": [
    {
     "name": "stdout",
     "output_type": "stream",
     "text": [
      "[1 2 3 4 5]\n",
      "[1 2 3 2 1]\n",
      "1 1\n",
      "2 2\n",
      "3 3\n",
      "4 2\n",
      "5 1\n"
     ]
    }
   ],
   "source": [
    "v, c = np.unique([1, 2, 2, 3, 3, 3, 4, 4, 5], return_counts=True)\n",
    "print(v)\n",
    "print(c)\n",
    "\n",
    "for a, b in zip(v, c):\n",
    "    print(a, b)"
   ]
  },
  {
   "cell_type": "markdown",
   "id": "34de75a9",
   "metadata": {},
   "source": [
    "## 전치행렬(transpose)\n",
    "- 행과 열을 바꾼 행렬\n",
    "- 행렬곱 등을 할 때, AM x MB 와 같이 M이 맞지 않을 때,\n",
    "- 강제로 수정 등을 위해 사용"
   ]
  },
  {
   "cell_type": "code",
   "execution_count": 12,
   "id": "16e9c709",
   "metadata": {},
   "outputs": [
    {
     "name": "stdout",
     "output_type": "stream",
     "text": [
      "int32\n",
      "6\n",
      "(3, 2)\n",
      "[[11 33 55]\n",
      " [22 44 66]]\n",
      "(2, 3)\n"
     ]
    }
   ],
   "source": [
    "arr1 = np.array([[11, 22],\n",
    "                 [33, 44],\n",
    "                 [55, 66]])\n",
    "\n",
    "print(arr1.dtype)\n",
    "print(arr1.size)\n",
    "print(arr1.shape)\n",
    "\n",
    "print(arr1.T) # transpose 전치행렬 : 행 <-> 열 \n",
    "print(arr1.T.shape)"
   ]
  },
  {
   "cell_type": "markdown",
   "id": "01b644d0",
   "metadata": {},
   "source": [
    "## 형변환 astype\n",
    "- 데이터분석에서 많이 사용\n",
    "- 예를들어 전화번호를 문자로 할 것이냐 숫자로 할 것이냐? 등\n",
    "- astype을 사용\n",
    "- 행과 열을 바꾼 행렬\n",
    "- -1을 쓰면 알아서 맞춤"
   ]
  },
  {
   "cell_type": "code",
   "execution_count": 13,
   "id": "b1ad06cf",
   "metadata": {},
   "outputs": [
    {
     "name": "stdout",
     "output_type": "stream",
     "text": [
      "int32\n",
      "float32\n",
      "None\n",
      "[[11. 22.]\n",
      " [33. 44.]\n",
      " [55.  0.]]\n"
     ]
    }
   ],
   "source": [
    "arr = np.array([11, 22, 33, 44, 55])\n",
    "print(arr.dtype)\n",
    "\n",
    "arr = arr.astype(np.float32) # arr를 float로 변환\n",
    "print(arr.dtype)\n",
    "\n",
    "arr2 =  arr.resize(3,2) # 값이 부족\n",
    "print(arr2)\n",
    "\n",
    "arr3 = arr.reshape(-1, 2) # -1 : 알아서 결정, 없으면 채움 \n",
    "print(arr3)"
   ]
  },
  {
   "cell_type": "markdown",
   "id": "ab27d838",
   "metadata": {},
   "source": [
    "## Boolean indexing (element-wise)\n",
    "조건을 주어서, 해당 인덱스만 추출하는 기능"
   ]
  },
  {
   "cell_type": "code",
   "execution_count": 14,
   "id": "14916fd4",
   "metadata": {},
   "outputs": [
    {
     "name": "stdout",
     "output_type": "stream",
     "text": [
      "[11 22 33 44 55]\n",
      "[11 22 55]\n",
      "[False False  True  True  True]\n",
      "[33 44 55]\n"
     ]
    }
   ],
   "source": [
    "arr1 = np.array([11, 22, 33, 44, 55])\n",
    "print(arr1)\n",
    "\n",
    "arr2 = arr1[[True, True, False, False, True]]\n",
    "print(arr2)\n",
    "\n",
    "print(arr1 > 30)\n",
    "print(arr1[arr1 > 30])"
   ]
  },
  {
   "cell_type": "markdown",
   "id": "f218c576",
   "metadata": {},
   "source": [
    "## 인덱스에 추가/삭제\n",
    "#### append 함수\n",
    "항상 마지막 인덱스에 배열을 추가\n",
    "#### insert 함수 \n",
    "특정 인덱스(두 번째 파라미터)에 원하는 배열을 삽입\n",
    "#### delete 함수 \n",
    "원하는 부분을 삭제"
   ]
  },
  {
   "cell_type": "code",
   "execution_count": 15,
   "id": "3764991d",
   "metadata": {},
   "outputs": [
    {
     "name": "stdout",
     "output_type": "stream",
     "text": [
      "[ 11  22  33  44  55 100 200]\n",
      "[11  1  2 22 33 44 55]\n",
      "[22 44 55]\n"
     ]
    }
   ],
   "source": [
    "arr = np.array([11,22,33,44,55])\n",
    "\n",
    "print(np.append(arr,[100,200])) \n",
    "print(np.insert(arr,1,[1,2])) # 1번째 인덱스로 [1,2] 추가\n",
    "\n",
    "print(np.delete(arr, [0,2])) # 0(11), 2(33)번째 삭제"
   ]
  },
  {
   "cell_type": "markdown",
   "id": "c5b0bb52",
   "metadata": {},
   "source": [
    "## where(), select() 사용\n",
    "- 특정 조건을 만족하는 것을 선택하는 용도\n",
    "- If 문하고 비슷\n",
    "- select(조건, 바꾸고싶은내용)"
   ]
  },
  {
   "cell_type": "code",
   "execution_count": 16,
   "id": "966c2df7",
   "metadata": {},
   "outputs": [
    {
     "name": "stdout",
     "output_type": "stream",
     "text": [
      "(array([0, 3, 4, 5, 7], dtype=int64),)\n",
      "['B' 'A' 'A' 'B' 'B' 'B' 'A' 'B' 'A']\n",
      "['C' 'B' 'A' 'C' 'C' 'C' 'B' 'C' 'B']\n"
     ]
    }
   ],
   "source": [
    "arr = np.array([11,130,370,11,44,94,200,30,190])\n",
    "\n",
    "print(np.where(arr < 100)) # index\n",
    "print(np.where(arr > 100, 'A', 'B'))\n",
    "\n",
    "conList = [arr > 200, arr >100, arr >0]\n",
    "choiceList = ['A', 'B', 'C']\n",
    "print(np.select(conList,choiceList))"
   ]
  },
  {
   "cell_type": "markdown",
   "id": "11200beb",
   "metadata": {},
   "source": [
    "## sort()\n",
    "정렬을 하기 위해서 사용\n",
    "#### argsort() 라는 함수는, \n",
    "sort 한 후 값이 아닌 index를 반환\n"
   ]
  },
  {
   "cell_type": "code",
   "execution_count": 17,
   "id": "149c42f6",
   "metadata": {},
   "outputs": [
    {
     "name": "stdout",
     "output_type": "stream",
     "text": [
      "[11 22 33 44 55]\n",
      "[11 22 33 44 55]\n",
      "[1 3 4 0 2]\n"
     ]
    }
   ],
   "source": [
    "arr = np.array([44,11,55,22,33])\n",
    "\n",
    "print(np.sort(arr))\n",
    "print(np.sort(arr[::-1]))\n",
    "\n",
    "# arg는 index 변환함수. argsort는 sort한 후 값이 아닌 인덱스 변환 \n",
    "print(np.argsort(arr))"
   ]
  },
  {
   "cell_type": "markdown",
   "id": "7e8a57b1",
   "metadata": {},
   "source": [
    "## argmin(), argmax(), std(), median()\n",
    "- 기초 통계용 함수\n",
    "- 중앙값은 평균이 아닌, 해당 값들 중에서 제일 중앙에 위치한 값\n",
    "- (참고: 평균은 mean())\n",
    "- 4분위수는, ¼, ½, ¾ 에 해당하는 값"
   ]
  },
  {
   "cell_type": "code",
   "execution_count": 18,
   "id": "51a59a93",
   "metadata": {},
   "outputs": [
    {
     "name": "stdout",
     "output_type": "stream",
     "text": [
      "11\n",
      "55\n",
      "1\n",
      "4\n",
      "15.556349186104045\n",
      "33.0\n",
      "[22. 33. 44.]\n"
     ]
    }
   ],
   "source": [
    "arr = np.array([22,11,44,33,55])\n",
    "\n",
    "print(arr.min()) \n",
    "print(arr.max()) \n",
    "\n",
    "print(arr.argmin()) # 가장 작은 값의 인덱스 변환\n",
    "print(arr.argmax()) # 가장 큰 값의 인덱스 변환\n",
    "\n",
    "print(arr.std()) # 표준 편차\n",
    "\n",
    "# 데이터를 정렬했을때 가운데 값 (= 중앙값)\n",
    "print(np.median(arr))\n",
    "\n",
    "# 1사분위수(0.25), 중앙값(0.5), 3사분위수(0.75) 값을 변환\n",
    "print(np.quantile(arr, [0.25, 0.5, 0.75]))"
   ]
  },
  {
   "cell_type": "markdown",
   "id": "2c22895c",
   "metadata": {},
   "source": [
    "## 넘파이 응용 예 #1\n",
    "연봉데이터 salary에서 각 연봉에 대한 세금 3.3%를 제외한 실수령액을 구하는 프로그램"
   ]
  },
  {
   "cell_type": "code",
   "execution_count": 19,
   "id": "f01a1ab1",
   "metadata": {},
   "outputs": [
    {
     "name": "stdout",
     "output_type": "stream",
     "text": [
      "[ 967. 1934. 2901. 3868. 4835.]\n"
     ]
    }
   ],
   "source": [
    "from unittest import result\n",
    "\n",
    "salary = np.array([1000,2000,3000,4000,5000])\n",
    "\n",
    "result = salary - salary * 0.033\n",
    "print(result)"
   ]
  },
  {
   "cell_type": "markdown",
   "id": "97828867",
   "metadata": {},
   "source": [
    "## 넘파이 응용 예 #2\n",
    "name에서 '철' 글자가 있는 데이터를 구하는 프로그램"
   ]
  },
  {
   "cell_type": "code",
   "execution_count": 20,
   "id": "46c8f50e",
   "metadata": {},
   "outputs": [
    {
     "name": "stdout",
     "output_type": "stream",
     "text": [
      "김철수\n",
      "김철이\n"
     ]
    }
   ],
   "source": [
    "name = np.array(['홍길동','김철수','임꺽정','김철이','이황'])\n",
    "\n",
    "for n in name:\n",
    "    if '철' in n :\n",
    "        print(n)"
   ]
  },
  {
   "cell_type": "markdown",
   "id": "3f668261",
   "metadata": {},
   "source": [
    "## 넘파이 응용 예 #3\n",
    "find() 을 이용해서 원하는 것을 찾을 수도 있음. 특정 인덱스를 가지고 올 수도 있음. 예를들어 ‘홍길동＇ 중에 ‘동 ‘은 2번째 index"
   ]
  },
  {
   "cell_type": "code",
   "execution_count": 21,
   "id": "eab54ec0",
   "metadata": {},
   "outputs": [
    {
     "name": "stdout",
     "output_type": "stream",
     "text": [
      "[-1  1 -1  1  0]\n",
      "['김철수' '김철이' '철이임']\n"
     ]
    }
   ],
   "source": [
    "name = np.array(['홍길동','김철수','임꺽정','김철이','철이임'])\n",
    "\n",
    "# '철' 이없으면 -1 반환 & '철'이 있으면 인덱스 반환\n",
    "print(np.char.find(name,'철'))\n",
    "\n",
    "# np.char.find(name, '철') ! = -1 이므로 '철'을 포함하는 값의 인덱스 반환 \n",
    "print(name[np.char.find(name, '철') != -1])"
   ]
  },
  {
   "cell_type": "markdown",
   "id": "6e8d0a1b",
   "metadata": {},
   "source": [
    "## 넘파이 응용 예 #4\n",
    "1. 점수가 가장 큰 값을 구하시오\n",
    "2. 점수가 80점 이상인 값을 구하시오\n",
    "3. 점수가 50점 이상 80 이하인 값을 구하시오\n",
    "4. 점수의 평균을 구하시오\n",
    "5. 점수의 총합을 구하시오"
   ]
  },
  {
   "cell_type": "code",
   "execution_count": 22,
   "id": "636a9fcf",
   "metadata": {},
   "outputs": [
    {
     "name": "stdout",
     "output_type": "stream",
     "text": [
      "20\n",
      "[90]\n",
      "[60 55 70]\n",
      "54.166666666666664\n",
      "325\n"
     ]
    }
   ],
   "source": [
    "kor = np.array([60,55,70,30,20,90])\n",
    "\n",
    "\n",
    "print(np.min(kor)) # kor.min() X #1\n",
    "print(kor[kor >= 80]) #2\n",
    "print(kor[(kor >=50) & (kor <=80)]) #3\n",
    "print(kor.mean()) #4\n",
    "print(kor.sum()) #5"
   ]
  },
  {
   "cell_type": "markdown",
   "id": "cc1d25a9",
   "metadata": {},
   "source": [
    "6. 국어 점수가 40점 이하인 데이터를 삭제하시오\n",
    "7. 국어 점수가 50점 이상인 데이터에 가산점 10%를 부여하시오\n",
    "8. 국어 점수 top 2를 구하시오\n",
    "9. 국어 점수가 70점 이상이면 '합격', 아니면 '불합격'으로 국어 점수와 함께 출력하시오"
   ]
  },
  {
   "cell_type": "code",
   "execution_count": 23,
   "id": "bc6caf8d",
   "metadata": {},
   "outputs": [
    {
     "name": "stdout",
     "output_type": "stream",
     "text": [
      "[60 55 70 90]\n",
      "[66 60 77 30 20 99]\n",
      "[20 30 60 66 77 99]\n",
      "[77 99]\n",
      "66 불합격\n",
      "60 불합격\n",
      "77 합격\n",
      "30 불합격\n",
      "20 불합격\n",
      "99 합격\n"
     ]
    }
   ],
   "source": [
    "kor = np.array([60,55,70,30,20,90])\n",
    "\n",
    "print(np.delete(kor, np.where(kor <=40))) #6\n",
    "\n",
    "kor[kor>=50] = kor[kor>=50] * 1.1\n",
    "print(kor) #7\n",
    "\n",
    "sorted_kor = np.sort(kor)\n",
    "print(sorted_kor)\n",
    "print(sorted_kor[-2:]) #8\n",
    "\n",
    "for i in range(len(kor)): #9\n",
    "    if kor[i] >= 70:\n",
    "        print(kor[i], '합격')\n",
    "    else:\n",
    "        print(kor[i], '불합격')"
   ]
  }
 ],
 "metadata": {
  "kernelspec": {
   "display_name": "Python 3 (ipykernel)",
   "language": "python",
   "name": "python3"
  },
  "language_info": {
   "codemirror_mode": {
    "name": "ipython",
    "version": 3
   },
   "file_extension": ".py",
   "mimetype": "text/x-python",
   "name": "python",
   "nbconvert_exporter": "python",
   "pygments_lexer": "ipython3",
   "version": "3.9.16"
  }
 },
 "nbformat": 4,
 "nbformat_minor": 5
}
