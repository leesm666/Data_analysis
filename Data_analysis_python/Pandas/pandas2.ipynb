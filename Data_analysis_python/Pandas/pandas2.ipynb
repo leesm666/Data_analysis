{
 "cells": [
  {
   "cell_type": "markdown",
   "id": "3274cb08",
   "metadata": {},
   "source": [
    "## Pandas "
   ]
  },
  {
   "cell_type": "code",
   "execution_count": 1,
   "id": "8d21b1e2",
   "metadata": {},
   "outputs": [],
   "source": [
    "import pandas as pd\n",
    "import numpy as np"
   ]
  },
  {
   "cell_type": "markdown",
   "id": "90331125",
   "metadata": {},
   "source": [
    "## DataFrame 시작\n",
    "앞서 언급했던 것 처럼, pandas는 series와 dataFrame이라는 구조를 이용함"
   ]
  },
  {
   "cell_type": "code",
   "execution_count": 2,
   "id": "9552118e",
   "metadata": {},
   "outputs": [
    {
     "name": "stdout",
     "output_type": "stream",
     "text": [
      "   eng  kor\n",
      "a    1    2\n",
      "b    3    4\n",
      "c    5    6\n",
      "----------------\n",
      "   0  1\n",
      "0  1  2\n",
      "1  3  4\n",
      "2  5  6\n",
      "---------------\n",
      "   kor  eng\n",
      "0    1    2\n",
      "1    3    4\n",
      "2    5    6\n",
      "---------------\n",
      "   kor  eng\n",
      "0    1    2\n",
      "1    3    4\n",
      "2    5    6\n"
     ]
    }
   ],
   "source": [
    "# DataFrame 시작\n",
    "d1 = [[1,2],[3,4],[5,6]]\n",
    "d2 = [(1,2),(3,4),(5,6)]\n",
    "d3 = [{'kor' : 1, 'eng' : 2},\n",
    "      {'kor' : 3, 'eng' : 4},\n",
    "      {'kor' : 5, 'eng' : 6}]\n",
    "d4 = {'kor' : [1,3,5], 'eng' :[2,4,6]}\n",
    "\n",
    "df1 = pd.DataFrame(d1, index=['a','b','c'], columns=['eng', 'kor'])\n",
    "print(df1)\n",
    "print(\"----------------\")\n",
    "df2 = pd.DataFrame(d2)\n",
    "print(df2)\n",
    "print(\"---------------\")\n",
    "df3 = pd.DataFrame(d3)\n",
    "print(df3)\n",
    "print(\"---------------\")\n",
    "df4 = pd.DataFrame(d4)\n",
    "print(df4)"
   ]
  },
  {
   "cell_type": "markdown",
   "id": "0265893a",
   "metadata": {},
   "source": [
    "## DataFrame 속성 #1"
   ]
  },
  {
   "cell_type": "code",
   "execution_count": 3,
   "id": "620b1940",
   "metadata": {},
   "outputs": [
    {
     "name": "stdout",
     "output_type": "stream",
     "text": [
      "   eng  kor  math\n",
      "a   10   20    90\n",
      "b   30   40    50\n",
      "c   50   60    20\n",
      "d   70   80    70\n",
      "--------------\n",
      "2\n",
      "(4, 3)\n",
      "4\n",
      "12\n",
      "       a   b   c   d\n",
      "eng   10  30  50  70\n",
      "kor   20  40  60  80\n",
      "math  90  50  20  70\n"
     ]
    }
   ],
   "source": [
    "data = {'eng' : [10, 30, 50, 70],\n",
    "        'kor' : [20, 40, 60, 80],\n",
    "        'math' : [90, 50, 20, 70]}\n",
    "\n",
    "df = pd.DataFrame(data, index=['a','b','c','d'])\n",
    "print(df)\n",
    "print('--------------')\n",
    "print(df.ndim) # 차원\n",
    "print(df.shape) # (행, 열)\n",
    "print(df.shape[0]) # 행의 개수\n",
    "\n",
    "print(df.size) # 데이터 개수\n",
    "print(df.T) # transpose"
   ]
  },
  {
   "cell_type": "markdown",
   "id": "5893dbbf",
   "metadata": {},
   "source": [
    "## DataFrame 속성 #2"
   ]
  },
  {
   "cell_type": "code",
   "execution_count": 4,
   "id": "992c7624",
   "metadata": {},
   "outputs": [
    {
     "name": "stdout",
     "output_type": "stream",
     "text": [
      "   eng  kor  math\n",
      "a   10   20    90\n",
      "b   30   40    50\n",
      "c   50   60    20\n",
      "d   70   80    70\n",
      "-------------------\n",
      "Index(['a', 'b', 'c', 'd'], dtype='object')\n",
      "Index(['eng', 'kor', 'math'], dtype='object')\n",
      "Index(['eng', 'kor', 'math'], dtype='object')\n",
      "-------------------\n",
      "[[10 20 90]\n",
      " [30 40 50]\n",
      " [50 60 20]\n",
      " [70 80 70]]\n",
      "eng     int64\n",
      "kor     int64\n",
      "math    int64\n",
      "dtype: object\n",
      "int64\n",
      "-------------------\n",
      "<class 'pandas.core.frame.DataFrame'>\n",
      "Index: 4 entries, a to d\n",
      "Data columns (total 3 columns):\n",
      " #   Column  Non-Null Count  Dtype\n",
      "---  ------  --------------  -----\n",
      " 0   eng     4 non-null      int64\n",
      " 1   kor     4 non-null      int64\n",
      " 2   math    4 non-null      int64\n",
      "dtypes: int64(3)\n",
      "memory usage: 128.0+ bytes\n",
      "None\n"
     ]
    }
   ],
   "source": [
    "data = {'eng' : [10, 30, 50, 70],\n",
    "        'kor' : [20, 40, 60, 80],\n",
    "        'math' : [90, 50, 20, 70]}\n",
    "\n",
    "df = pd.DataFrame(data, index=['a', 'b','c','d'])\n",
    "print(df)\n",
    "print('-------------------')\n",
    "print(df.index)\n",
    "print(df.keys())\n",
    "print(df.columns)\n",
    "print('-------------------')\n",
    "print(df.values)\n",
    "print(df.dtypes)\n",
    "print(df.dtypes['eng'])\n",
    "print('-------------------')\n",
    "print(df.info())"
   ]
  },
  {
   "cell_type": "markdown",
   "id": "d099dddb",
   "metadata": {},
   "source": [
    "## DataFrame indexing #1"
   ]
  },
  {
   "cell_type": "code",
   "execution_count": 5,
   "id": "070bcaac",
   "metadata": {},
   "outputs": [
    {
     "name": "stdout",
     "output_type": "stream",
     "text": [
      "   eng  kor  math\n",
      "a   10   20    90\n",
      "b   30   40    50\n",
      "c   50   60    20\n",
      "d   70   80    70\n",
      "-----------------\n",
      "a    10\n",
      "b    30\n",
      "c    50\n",
      "d    70\n",
      "Name: eng, dtype: int64\n",
      "   eng  math\n",
      "a   10    90\n",
      "b   30    50\n",
      "c   50    20\n",
      "d   70    70\n",
      "a    10\n",
      "b    30\n",
      "c    50\n",
      "Name: eng, dtype: int64\n",
      "   eng  kor  math\n",
      "b   30   40    50\n",
      "c   50   60    20\n",
      "   eng  kor  math\n",
      "b   30   40    50\n",
      "c   50   60    20\n"
     ]
    }
   ],
   "source": [
    "data = {'eng' : [10, 30, 50, 70],\n",
    "        'kor' : [20, 40, 60, 80],\n",
    "        'math' : [90, 50, 20, 70]}\n",
    "df = pd.DataFrame(data, index=['a' ,'b', 'c', 'd'])\n",
    "print(df)\n",
    "print('-----------------')\n",
    "print(df['eng'])\n",
    "print(df[['eng', 'math']])\n",
    "print(df['eng']['a':'c'])\n",
    "\n",
    "print(df[1:3])\n",
    "print(df['b' : 'c'])"
   ]
  },
  {
   "cell_type": "markdown",
   "id": "3863d3be",
   "metadata": {},
   "source": [
    "## DataFrame indexing #2"
   ]
  },
  {
   "cell_type": "code",
   "execution_count": 6,
   "id": "572a41ff",
   "metadata": {},
   "outputs": [
    {
     "name": "stdout",
     "output_type": "stream",
     "text": [
      "   eng  kor  math\n",
      "a   10   20    90\n",
      "b   30   40    50\n",
      "c   50   60    20\n",
      "d   70   80    70\n",
      "--------------------\n",
      "eng     10\n",
      "kor     20\n",
      "math    90\n",
      "Name: a, dtype: int64\n",
      "10\n",
      "   eng  kor  math\n",
      "a   10   20    90\n",
      "c   50   60    20\n",
      "d   70   80    70\n",
      "b    40\n",
      "c    60\n",
      "d    80\n",
      "Name: kor, dtype: int64\n",
      "   kor  math\n",
      "b   40    50\n",
      "c   60    20\n",
      "d   80    70\n",
      "   eng  math\n",
      "b   30    50\n",
      "c   50    20\n"
     ]
    }
   ],
   "source": [
    "data = {'eng' : [10, 30, 50, 70],\n",
    "        'kor' : [20, 40, 60, 80],\n",
    "        'math' : [90, 50, 20, 70]}\n",
    "df = pd.DataFrame(data, index=['a' ,'b', 'c', 'd'])\n",
    "\n",
    "print(df)\n",
    "print('--------------------')\n",
    "print(df.iloc[0])\n",
    "print(df.iloc[0,0])\n",
    "print(df.iloc[[0,2,3]]) # 0, 2, 3번 행\n",
    "print(df.iloc[1:, 1])\n",
    "print(df.iloc[1:,1:])\n",
    "print(df.iloc[1:3, [0,2]]) # 2, 3번행 과 0,2번 열"
   ]
  },
  {
   "cell_type": "markdown",
   "id": "aed1cc50",
   "metadata": {},
   "source": [
    "## DataFrame indexing #3"
   ]
  },
  {
   "cell_type": "code",
   "execution_count": 7,
   "id": "51589951",
   "metadata": {},
   "outputs": [
    {
     "name": "stdout",
     "output_type": "stream",
     "text": [
      "   eng  kor  math\n",
      "a   10   20    90\n",
      "b   30   40    50\n",
      "c   50   60    20\n",
      "d   70   80    70\n",
      "-----------------\n",
      "   eng  kor  math\n",
      "a   10   20    90\n",
      "b   30   40    50\n",
      "c   50   60    20\n",
      "   eng  kor  math\n",
      "a   10   20    90\n",
      "c   50   60    20\n",
      "d   70   80    70\n",
      "   eng  kor  math\n",
      "b   30   40    50\n",
      "c   50   60    20\n",
      "d   70   80    70\n",
      "   kor  math\n",
      "b   40    50\n",
      "c   60    20\n",
      "d   80    70\n",
      "   eng  math\n",
      "b   30    50\n",
      "c   50    20\n"
     ]
    }
   ],
   "source": [
    "data = {'eng' : [10, 30, 50, 70],\n",
    "        'kor' : [20, 40, 60, 80],\n",
    "        'math' : [90, 50, 20, 70]}\n",
    "df = pd.DataFrame(data, index=['a' ,'b', 'c', 'd'])\n",
    "\n",
    "print(df)\n",
    "print('-----------------')\n",
    "print(df.loc['a':'c'])\n",
    "print(df.loc[['a','c','d']])\n",
    "print(df.loc['b':])\n",
    "print(df.loc['b':, 'kor':])\n",
    "print(df.loc['b':'c', ['eng','math']])"
   ]
  },
  {
   "cell_type": "markdown",
   "id": "2f2a4708",
   "metadata": {},
   "source": [
    "## DataFrame 산술연산 #1"
   ]
  },
  {
   "cell_type": "code",
   "execution_count": 8,
   "id": "5a486df6",
   "metadata": {},
   "outputs": [
    {
     "name": "stdout",
     "output_type": "stream",
     "text": [
      "   eng  kor  math\n",
      "a   10   20    90\n",
      "b   30   40    50\n",
      "c   50   60    20\n",
      "d   70   80    70\n",
      "------------\n",
      "   eng  kor  math\n",
      "a   11   21    91\n",
      "b   31   41    51\n",
      "c   51   61    21\n",
      "d   71   81    71\n",
      "   eng  kor  math\n",
      "a   20   40   180\n",
      "b   60   80   100\n",
      "c  100  120    40\n",
      "d  140  160   140\n",
      "--------------------\n",
      "   eng  kor  math\n",
      "a    1   20    90\n",
      "b    2   40    50\n",
      "c    3   60    20\n",
      "d    4   80    70\n",
      "-------------\n",
      "   eng  kor  math\n",
      "a    3   20    90\n",
      "b    4   40    50\n",
      "c    5   60    20\n",
      "d    6   80    70\n",
      "--------------\n",
      "   eng  kor  math\n",
      "a    5   22    92\n",
      "b    4   40    50\n",
      "c    5   60    20\n",
      "d    6   80    70\n",
      "-----------------\n",
      "   eng  kor  math\n",
      "a    5   22    92\n",
      "b    4    1     2\n",
      "c    5    3     4\n",
      "d    6   80    70\n",
      "---------------\n",
      "   eng  kor  math\n",
      "a    5   22    92\n",
      "b    4    3     4\n",
      "c    5    5     6\n",
      "d    6   80    70\n"
     ]
    }
   ],
   "source": [
    "data = {'eng' : [10, 30, 50, 70],\n",
    "        'kor' : [20, 40, 60, 80],\n",
    "        'math' : [90, 50, 20, 70]}\n",
    "df = pd.DataFrame(data, index=['a' ,'b', 'c', 'd'])\n",
    "print(df)\n",
    "print('------------')\n",
    "print(df + 1)\n",
    "print(df * 2)\n",
    "print('--------------------')\n",
    "df['eng'] = [1,2,3,4]\n",
    "print(df)\n",
    "print('-------------')\n",
    "df['eng'] += 2\n",
    "print(df)\n",
    "print('--------------')\n",
    "df.loc['a'] +=2\n",
    "print(df)\n",
    "print('-----------------')\n",
    "df.loc['b':'c', 'kor':] = [[1,2], [3,4]]\n",
    "print(df)\n",
    "print('---------------')\n",
    "df.loc['b':'c', 'kor':] +=2\n",
    "print(df)"
   ]
  },
  {
   "cell_type": "markdown",
   "id": "abc554b0",
   "metadata": {},
   "source": [
    "## DataFrame 산술연산 #2"
   ]
  },
  {
   "cell_type": "code",
   "execution_count": 9,
   "id": "56b93f2a",
   "metadata": {},
   "outputs": [
    {
     "name": "stdout",
     "output_type": "stream",
     "text": [
      "   eng  kor  math\n",
      "a   10   20    90\n",
      "b   30   40    50\n",
      "c   50   60    20\n",
      "d   70   80    70\n",
      "----------------\n",
      "   eng  kor  math\n",
      "c   50   60    20\n",
      "d   70   80    70\n",
      "   eng  kor  math\n",
      "a   10   20    90\n",
      "c   50   60    20\n",
      "   eng  kor  math\n",
      "a   10   20    90\n",
      "b   30   40    50\n",
      "c   50   60    20\n",
      "   eng  kor  math\n",
      "a   10   20    90\n",
      "b   30   40    50\n"
     ]
    }
   ],
   "source": [
    "data = {'eng' : [10, 30, 50, 70],\n",
    "        'kor' : [20, 40, 60, 80],\n",
    "        'math' : [90, 50, 20, 70]}\n",
    "df = pd.DataFrame(data, index=['a' ,'b', 'c', 'd'])\n",
    "print(df)\n",
    "print('----------------')\n",
    "\n",
    "print(df[df['eng']> 30])\n",
    "print(df[(df['kor']==20) | (df['kor']==60)])\n",
    "print(df[(df['kor']>=20) & (df['kor']<=60)])\n",
    "print(df[df['kor'].isin([20,40])])"
   ]
  },
  {
   "cell_type": "markdown",
   "id": "4524eb38",
   "metadata": {},
   "source": [
    "## DataFrame 산술연산 #3"
   ]
  },
  {
   "cell_type": "code",
   "execution_count": 10,
   "id": "1db3c813",
   "metadata": {},
   "outputs": [
    {
     "name": "stdout",
     "output_type": "stream",
     "text": [
      "   eng  kor  math\n",
      "a   10   20    90\n",
      "b   30   40    50\n",
      "c   50   60    20\n",
      "d   70   80    70\n",
      "----------------\n",
      "   eng  kor  math\n",
      "c   50   60    20\n",
      "d   70   80    70\n",
      "   eng  kor  math\n",
      "a   10   20    90\n",
      "c   50   60    20\n",
      "   eng  kor  math\n",
      "a   10   20    90\n",
      "b   30   40    50\n",
      "c   50   60    20\n"
     ]
    }
   ],
   "source": [
    "data = {'eng' : [10, 30, 50, 70],\n",
    "        'kor' : [20, 40, 60, 80],\n",
    "        'math' : [90, 50, 20, 70]}\n",
    "df = pd.DataFrame(data, index=['a' ,'b', 'c', 'd'])\n",
    "print(df)\n",
    "print('----------------')\n",
    "print(df.query('eng>30')) # df[df['eng']>30]\n",
    "print(df.query('kor==20 or kor ==60'))\n",
    "print(df.query('20<=kor<=60'))\n",
    "# num = 30\n",
    "# print(df.query(f'eng>{num}')) # 'eng>{}'.format(num)"
   ]
  },
  {
   "cell_type": "markdown",
   "id": "88c5996d",
   "metadata": {},
   "source": [
    "## DataFrame 추가 수정 삭제 검색 정렬 #1"
   ]
  },
  {
   "cell_type": "code",
   "execution_count": 11,
   "id": "191dab89",
   "metadata": {},
   "outputs": [
    {
     "name": "stdout",
     "output_type": "stream",
     "text": [
      "   eng  kor  math\n",
      "a   10   20    90\n",
      "b   30   40    50\n",
      "c   50   60    20\n",
      "d   70   80    70\n",
      "----------------\n",
      "   eng  kor  math  my1  my2\n",
      "a   10   20    90    1   30\n",
      "b   30   40    50    2   70\n",
      "c   50   60    20    3  110\n",
      "d   70   80    70    4  150\n",
      "---------------\n",
      "   eng  kor  math  my1  my2\n",
      "a   10   20    90    1   30\n",
      "b   30   40    50    2   70\n",
      "c   50   60    20    3  110\n",
      "d   70   80    70    4  150\n",
      "e    1    2     3    5    6\n",
      "-----------------\n",
      "   eng  kor  math  my1  my2\n",
      "b   30   40    50    2   70\n",
      "d   70   80    70    4  150\n",
      "e    1    2     3    5    6\n",
      "   kor  my1  my2\n",
      "a   20    1   30\n",
      "b   40    2   70\n",
      "c   60    3  110\n",
      "d   80    4  150\n",
      "e    2    5    6\n",
      "---------------\n",
      "   eng  kor  math  my1  my2\n",
      "a   10   20    90    1   30\n",
      "b   30   40    50    2   70\n",
      "c   50   60    20    3  110\n",
      "d   70   80    70    4  150\n",
      "e    1    2     3    5    6\n",
      "   eng   kor  math  my1  my2\n",
      "a   10  20.0    90    1   30\n",
      "b   30   NaN    50    2   70\n",
      "c   50   NaN    20    3  110\n",
      "d   70   NaN    70    4  150\n",
      "e    1   2.0     3    5    6\n",
      "     eng    kor   math    my1    my2\n",
      "a  False  False  False  False  False\n",
      "b  False   True  False  False  False\n",
      "c  False   True  False  False  False\n",
      "d  False   True  False  False  False\n",
      "e  False  False  False  False  False\n",
      "eng     0\n",
      "kor     3\n",
      "math    0\n",
      "my1     0\n",
      "my2     0\n",
      "dtype: int64\n"
     ]
    }
   ],
   "source": [
    "data = {'eng' : [10, 30, 50, 70],\n",
    "        'kor' : [20, 40, 60, 80],\n",
    "        'math' : [90, 50, 20, 70]}\n",
    "df = pd.DataFrame(data, index=['a' ,'b', 'c', 'd'])\n",
    "print(df)\n",
    "print('----------------')\n",
    "df['my1'] = [1,2,3,4] # 컬럼이 있으면 수정, 없으면 추가\n",
    "df['my2'] = df['kor'] + df['eng']\n",
    "print(df)\n",
    "print('---------------')\n",
    "df.loc['e'] = [1, 2, 3, 5, 6] \n",
    "print(df)\n",
    "print('-----------------')\n",
    "print(df.drop(index=['a', 'c']))\n",
    "print(df.drop(columns=['eng', 'math']))\n",
    "print('---------------')\n",
    "print(df)\n",
    "df.loc['b':'c', 'kor'] = np.nan\n",
    "df.loc['c':'d', 'kor'] = np.nan\n",
    "print(df)\n",
    "print(df.isna())\n",
    "print(df.isna().sum())"
   ]
  },
  {
   "cell_type": "markdown",
   "id": "b06c1e6a",
   "metadata": {},
   "source": [
    "## DataFrame 추가 수정 삭제 검색 정렬 #2"
   ]
  },
  {
   "cell_type": "code",
   "execution_count": 12,
   "id": "02d1d367",
   "metadata": {},
   "outputs": [
    {
     "name": "stdout",
     "output_type": "stream",
     "text": [
      "   eng  kor  math\n",
      "a   10   20    90\n",
      "b   30   40    50\n",
      "c   50   60    20\n",
      "d   70   80    70\n",
      "----------------\n",
      "   eng   kor  math\n",
      "a   10  20.0  90.0\n",
      "b   30   NaN  50.0\n",
      "c   50   NaN   NaN\n",
      "d   70  80.0   NaN\n",
      "   eng   kor  math\n",
      "a   10  20.0  90.0\n",
      "b   30   1.0  50.0\n",
      "c   50   1.0   1.0\n",
      "d   70  80.0   1.0\n",
      "   eng   kor  math\n",
      "a   10  20.0  90.0\n",
      "b   30   3.0  50.0\n",
      "c   50   3.0   NaN\n",
      "d   70  80.0   NaN\n",
      "------------------\n",
      "   eng   kor  math\n",
      "a   10  20.0  90.0\n",
      "b   30   3.0  50.0\n",
      "   eng   kor\n",
      "a   10  20.0\n",
      "b   30   3.0\n",
      "c   50   3.0\n",
      "d   70  80.0\n",
      "   eng   kor  math\n",
      "a   10  20.0  90.0\n",
      "b   30   3.0  50.0\n"
     ]
    }
   ],
   "source": [
    "data = {'eng' : [10, 30, 50, 70],\n",
    "        'kor' : [20, 40, 60, 80],\n",
    "        'math' : [90, 50, 20, 70]}\n",
    "df = pd.DataFrame(data, index=['a' ,'b', 'c', 'd'])\n",
    "print(df)\n",
    "print('----------------')\n",
    "df.loc['b':'c','kor'] = np.nan\n",
    "df.loc['c':'d','math'] = np.nan\n",
    "print(df)\n",
    "print(df.fillna(1))\n",
    "df['kor'] = df['kor'].fillna(3)\n",
    "\n",
    "print(df)\n",
    "print('------------------')\n",
    "print(df.dropna())\n",
    "print(df.dropna(axis=1))\n",
    "print(df.dropna(subset=['math']))\n"
   ]
  },
  {
   "cell_type": "markdown",
   "id": "8436c326",
   "metadata": {},
   "source": [
    "## DataFrame 추가 수정 삭제 검색 정렬 #3"
   ]
  },
  {
   "cell_type": "code",
   "execution_count": 13,
   "id": "002b90b9",
   "metadata": {},
   "outputs": [
    {
     "name": "stdout",
     "output_type": "stream",
     "text": [
      "   eng  kor  math\n",
      "a   10   20    90\n",
      "b   30   40    50\n",
      "c   50   60    20\n",
      "d   70   80    70\n",
      "----------------\n",
      "   eng  kor  math\n",
      "c   50   60    20\n",
      "b   30   40    50\n",
      "d   70   80    70\n",
      "a   10   20    90\n",
      "   eng  kor  math\n",
      "a   10   20    90\n",
      "d   70   80    70\n",
      "b   30   40    50\n",
      "c   50   60    20\n",
      "   eng  kor  math\n",
      "d   70   80    70\n",
      "c   50   60    20\n",
      "b   30   40    50\n",
      "a   10   20    90\n",
      "   eng  kor  math\n",
      "a   10   20    90\n",
      "b   30   40    50\n",
      "c   50   60    20\n",
      "d   70   80    70\n",
      "   eng  kor  math\n",
      "a   10   20    90\n",
      "b   30   40    50\n",
      "c   50   40    20\n",
      "d   70   80    70\n"
     ]
    }
   ],
   "source": [
    "data = {'eng' : [10, 30, 50, 70],\n",
    "        'kor' : [20, 40, 60, 80],\n",
    "        'math' : [90, 50, 20, 70]}\n",
    "df = pd.DataFrame(data, index=['a' ,'b', 'c', 'd'])\n",
    "print(df)\n",
    "print('----------------')\n",
    "print(df.sort_values(by='math'))\n",
    "print(df.sort_values(by='math', ascending=False))\n",
    "print(df.sort_values(by=['kor','eng'], ascending=False))\n",
    "print(df.sort_index())\n",
    "df.loc['c','kor'] = 40\n",
    "print(df)\n",
    "\n"
   ]
  },
  {
   "cell_type": "markdown",
   "id": "50f4af62",
   "metadata": {},
   "source": [
    "## DataFrame 통계 #1\n",
    "sum, mean은 axis=1일 때 행"
   ]
  },
  {
   "cell_type": "code",
   "execution_count": 14,
   "id": "fdb471f3",
   "metadata": {},
   "outputs": [
    {
     "name": "stdout",
     "output_type": "stream",
     "text": [
      "   eng  kor  math\n",
      "a   10   20    90\n",
      "b   30   40    50\n",
      "c   50   60    20\n",
      "d   70   80    70\n",
      "----------------\n",
      "eng     10\n",
      "kor     20\n",
      "math    20\n",
      "dtype: int64\n",
      "eng     160\n",
      "kor     200\n",
      "math    230\n",
      "dtype: int64\n",
      "a    120\n",
      "b    120\n",
      "c    130\n",
      "d    220\n",
      "dtype: int64\n",
      "590\n",
      "eng     40.0\n",
      "kor     50.0\n",
      "math    57.5\n",
      "dtype: float64\n",
      "a    40.00\n",
      "b    40.00\n",
      "c    43.33\n",
      "d    73.33\n",
      "dtype: float64\n"
     ]
    }
   ],
   "source": [
    "data = {'eng' : [10, 30, 50, 70],\n",
    "        'kor' : [20, 40, 60, 80],\n",
    "        'math' : [90, 50, 20, 70]}\n",
    "df = pd.DataFrame(data, index=['a' ,'b', 'c', 'd'])\n",
    "print(df)\n",
    "print('----------------')\n",
    "\n",
    "print(df.min())\n",
    "print(df.sum())\n",
    "print(df.sum(axis=1)) # 행\n",
    "print(df.sum().sum())\n",
    "print(df.mean())\n",
    "print(df.mean(axis=1).round(2))"
   ]
  },
  {
   "cell_type": "markdown",
   "id": "0dc57fa9",
   "metadata": {},
   "source": [
    "## DataFrame 통계 #2"
   ]
  },
  {
   "cell_type": "code",
   "execution_count": 15,
   "id": "af15674f",
   "metadata": {},
   "outputs": [
    {
     "name": "stdout",
     "output_type": "stream",
     "text": [
      "   eng  kor  math\n",
      "a   10   20    90\n",
      "b   30   40    50\n",
      "c   50   60    20\n",
      "d   70   80    70\n",
      "----------------\n",
      "eng     d\n",
      "kor     d\n",
      "math    a\n",
      "dtype: object\n",
      "a    math\n",
      "b    math\n",
      "c     kor\n",
      "d     kor\n",
      "dtype: object\n",
      "eng     40.0\n",
      "kor     50.0\n",
      "math    60.0\n",
      "dtype: float64\n",
      "eng     25.819889\n",
      "kor     25.819889\n",
      "math    29.860788\n",
      "dtype: float64\n",
      "       eng   kor  math\n",
      "0.25  25.0  35.0  42.5\n",
      "0.50  40.0  50.0  60.0\n",
      "0.75  55.0  65.0  75.0\n",
      "eng     4\n",
      "kor     4\n",
      "math    4\n",
      "dtype: int64\n",
      "             eng        kor       math\n",
      "count   4.000000   4.000000   4.000000\n",
      "mean   40.000000  50.000000  57.500000\n",
      "std    25.819889  25.819889  29.860788\n",
      "min    10.000000  20.000000  20.000000\n",
      "25%    25.000000  35.000000  42.500000\n",
      "50%    40.000000  50.000000  60.000000\n",
      "75%    55.000000  65.000000  75.000000\n",
      "max    70.000000  80.000000  90.000000\n",
      "count     4.000000\n",
      "mean     40.000000\n",
      "std      25.819889\n",
      "min      10.000000\n",
      "25%      25.000000\n",
      "50%      40.000000\n",
      "75%      55.000000\n",
      "max      70.000000\n",
      "Name: eng, dtype: float64\n"
     ]
    }
   ],
   "source": [
    "data = {'eng' : [10, 30, 50, 70],\n",
    "        'kor' : [20, 40, 60, 80],\n",
    "        'math' : [90, 50, 20, 70]}\n",
    "df = pd.DataFrame(data, index=['a' ,'b', 'c', 'd'])\n",
    "print(df)\n",
    "print('----------------')\n",
    "\n",
    "print(df.idxmax())\n",
    "print(df.idxmax(axis=1))\n",
    "print(df.median())\n",
    "print(df.std())\n",
    "print(df.quantile([0.25,0.5,0.75]))\n",
    "print(df.count())\n",
    "print(df.describe())\n",
    "print(df.describe()['eng'])"
   ]
  },
  {
   "cell_type": "markdown",
   "id": "3024b43a",
   "metadata": {},
   "source": [
    "## DataFrame 통계 groupby #1\n",
    "CSV(Comma - Separated Values): 각각의 데이터 값을 콤마(,)로 구분하는 파일 형식 (엑셀과 메모장에서 확인)"
   ]
  },
  {
   "cell_type": "code",
   "execution_count": 16,
   "id": "eb6748d2",
   "metadata": {},
   "outputs": [
    {
     "name": "stdout",
     "output_type": "stream",
     "text": [
      "     grade  rate  price\n",
      "호텔1     10     1   9500\n",
      "호텔2      8     2   8000\n",
      "호텔3      6     4   6000\n",
      "호텔4      9     2   8600\n",
      "호텔5      7     4   7000\n",
      "----------------------\n",
      "[10  8  6  9  7  5]\n",
      "5     6\n",
      "6     2\n",
      "7     3\n",
      "8     5\n",
      "9     2\n",
      "10    2\n",
      "Name: grade, dtype: int64\n",
      "----------------------\n",
      "       price\n",
      "grade       \n",
      "5      25300\n",
      "6      12800\n",
      "7      21200\n",
      "8      41300\n",
      "9      17400\n",
      "10     18800\n",
      "             price\n",
      "grade             \n",
      "5      4216.666667\n",
      "6      6400.000000\n",
      "7      7066.666667\n",
      "8      8260.000000\n",
      "9      8700.000000\n",
      "10     9400.000000\n",
      "       price\n",
      "grade       \n",
      "5       5200\n",
      "6       6800\n",
      "7       7100\n",
      "8       8500\n",
      "9       8800\n",
      "10      9500\n",
      "       price\n",
      "grade       \n",
      "5          6\n",
      "6          2\n",
      "7          3\n",
      "8          5\n",
      "9          2\n",
      "10         2\n"
     ]
    }
   ],
   "source": [
    "df = pd.read_csv(\"../../hotel.csv\", index_col=0) # encoding=\"cp949\" 에러 나면 \n",
    "\n",
    "print(df.head()) # 위에 다섯개\n",
    "print('----------------------')\n",
    "print(df['grade'].unique())\n",
    "print(df['grade'].value_counts().sort_index())\n",
    "print('----------------------')\n",
    "\n",
    "\n",
    "g = df.groupby('grade')\n",
    "print(g.sum()[['price']])\n",
    "\n",
    "print(g.mean()[['price']])\n",
    "print(g.max()[['price']])\n",
    "print(g.count()[['price']])\n",
    "# print(g.sum()[['rate']])"
   ]
  },
  {
   "cell_type": "markdown",
   "id": "d9241223",
   "metadata": {},
   "source": [
    "## DataFrame 통계 groupby #2\n",
    "CSV(Comma - Separated Values): 각각의 데이터 값을 콤마(,)로 구분하는 파일 형식"
   ]
  },
  {
   "cell_type": "code",
   "execution_count": 17,
   "id": "2385716f",
   "metadata": {},
   "outputs": [
    {
     "name": "stdout",
     "output_type": "stream",
     "text": [
      "       가격의 총합       가격의 평균  가격의 개수\n",
      "grade                             \n",
      "5       25300  4216.666667       6\n",
      "6       12800  6400.000000       2\n",
      "7       21200  7066.666667       3\n",
      "8       41300  8260.000000       5\n",
      "9       17400  8700.000000       2\n",
      "10      18800  9400.000000       2\n"
     ]
    }
   ],
   "source": [
    "df = pd.read_csv('../../hotel.csv', index_col=0)\n",
    "\n",
    "g = df.groupby('grade')\n",
    "\n",
    "mydf = g.agg(['sum', 'mean', 'count'])['price']\n",
    "mydf.columns = ['가격의 총합', '가격의 평균', '가격의 개수']\n",
    "print(mydf)"
   ]
  }
 ],
 "metadata": {
  "kernelspec": {
   "display_name": "Python 3 (ipykernel)",
   "language": "python",
   "name": "python3"
  },
  "language_info": {
   "codemirror_mode": {
    "name": "ipython",
    "version": 3
   },
   "file_extension": ".py",
   "mimetype": "text/x-python",
   "name": "python",
   "nbconvert_exporter": "python",
   "pygments_lexer": "ipython3",
   "version": "3.9.16"
  }
 },
 "nbformat": 4,
 "nbformat_minor": 5
}
